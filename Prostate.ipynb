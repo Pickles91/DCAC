{
  "nbformat": 4,
  "nbformat_minor": 0,
  "metadata": {
    "colab": {
      "provenance": [],
      "gpuType": "T4",
      "authorship_tag": "ABX9TyO20VkQ2+n14PIv3dKDW7Az",
      "include_colab_link": true
    },
    "kernelspec": {
      "name": "python3",
      "display_name": "Python 3"
    },
    "language_info": {
      "name": "python"
    },
    "accelerator": "GPU"
  },
  "cells": [
    {
      "cell_type": "markdown",
      "metadata": {
        "id": "view-in-github",
        "colab_type": "text"
      },
      "source": [
        "<a href=\"https://colab.research.google.com/github/Pickles91/DCAC/blob/main/Prostate.ipynb\" target=\"_parent\"><img src=\"https://colab.research.google.com/assets/colab-badge.svg\" alt=\"Open In Colab\"/></a>"
      ]
    },
    {
      "cell_type": "code",
      "execution_count": null,
      "metadata": {
        "id": "Ebu5jAXJY11h"
      },
      "outputs": [],
      "source": [
        "# Import basic packages for later use\n",
        "import os\n",
        "import shutil\n",
        "from collections import OrderedDict\n",
        "\n",
        "import json\n",
        "import matplotlib.pyplot as plt\n",
        "import nibabel as nib\n",
        "\n",
        "import numpy as np\n",
        "import torch"
      ]
    },
    {
      "cell_type": "code",
      "source": [
        "# check whether GPU accelerated computing is available\n",
        "assert torch.cuda.is_available() # if there is an error here, enable GPU in the Runtime"
      ],
      "metadata": {
        "id": "DE1ZxqrvY6DU"
      },
      "execution_count": null,
      "outputs": []
    },
    {
      "cell_type": "code",
      "source": [
        "# install nnunet - yes it is that easy\n",
        "!pip install nnunetv2"
      ],
      "metadata": {
        "colab": {
          "base_uri": "https://localhost:8080/",
          "height": 1000
        },
        "id": "3jkGhy-HZMM-",
        "outputId": "b3d08f58-88d5-4784-d052-26f824b14e17"
      },
      "execution_count": null,
      "outputs": [
        {
          "output_type": "stream",
          "name": "stdout",
          "text": [
            "Requirement already satisfied: nnunetv2 in /usr/local/lib/python3.10/dist-packages (2.3.1)\n",
            "Requirement already satisfied: torch>=2.0.0 in /usr/local/lib/python3.10/dist-packages (from nnunetv2) (2.2.1+cu121)\n",
            "Requirement already satisfied: acvl-utils<0.3,>=0.2 in /usr/local/lib/python3.10/dist-packages (from nnunetv2) (0.2)\n",
            "Requirement already satisfied: dynamic-network-architectures<0.4,>=0.2 in /usr/local/lib/python3.10/dist-packages (from nnunetv2) (0.3.1)\n",
            "Requirement already satisfied: tqdm in /usr/local/lib/python3.10/dist-packages (from nnunetv2) (4.66.2)\n",
            "Requirement already satisfied: dicom2nifti in /usr/local/lib/python3.10/dist-packages (from nnunetv2) (2.4.10)\n",
            "Requirement already satisfied: scipy in /usr/local/lib/python3.10/dist-packages (from nnunetv2) (1.11.4)\n",
            "Requirement already satisfied: batchgenerators>=0.25 in /usr/local/lib/python3.10/dist-packages (from nnunetv2) (0.25)\n",
            "Requirement already satisfied: numpy in /usr/local/lib/python3.10/dist-packages (from nnunetv2) (1.25.2)\n",
            "Requirement already satisfied: scikit-learn in /usr/local/lib/python3.10/dist-packages (from nnunetv2) (1.2.2)\n",
            "Requirement already satisfied: scikit-image>=0.19.3 in /usr/local/lib/python3.10/dist-packages (from nnunetv2) (0.19.3)\n",
            "Requirement already satisfied: SimpleITK>=2.2.1 in /usr/local/lib/python3.10/dist-packages (from nnunetv2) (2.3.1)\n",
            "Requirement already satisfied: pandas in /usr/local/lib/python3.10/dist-packages (from nnunetv2) (1.5.3)\n",
            "Requirement already satisfied: graphviz in /usr/local/lib/python3.10/dist-packages (from nnunetv2) (0.20.2)\n",
            "Requirement already satisfied: tifffile in /usr/local/lib/python3.10/dist-packages (from nnunetv2) (2024.2.12)\n",
            "Requirement already satisfied: requests in /usr/local/lib/python3.10/dist-packages (from nnunetv2) (2.31.0)\n",
            "Requirement already satisfied: nibabel in /usr/local/lib/python3.10/dist-packages (from nnunetv2) (4.0.2)\n",
            "Requirement already satisfied: matplotlib in /usr/local/lib/python3.10/dist-packages (from nnunetv2) (3.7.1)\n",
            "Requirement already satisfied: seaborn in /usr/local/lib/python3.10/dist-packages (from nnunetv2) (0.13.1)\n",
            "Requirement already satisfied: imagecodecs in /usr/local/lib/python3.10/dist-packages (from nnunetv2) (2024.1.1)\n",
            "Requirement already satisfied: yacs in /usr/local/lib/python3.10/dist-packages (from nnunetv2) (0.1.8)\n",
            "Requirement already satisfied: connected-components-3d in /usr/local/lib/python3.10/dist-packages (from acvl-utils<0.3,>=0.2->nnunetv2) (3.12.4)\n",
            "Requirement already satisfied: pillow>=7.1.2 in /usr/local/lib/python3.10/dist-packages (from batchgenerators>=0.25->nnunetv2) (9.4.0)\n",
            "Requirement already satisfied: future in /usr/local/lib/python3.10/dist-packages (from batchgenerators>=0.25->nnunetv2) (0.18.3)\n",
            "Requirement already satisfied: unittest2 in /usr/local/lib/python3.10/dist-packages (from batchgenerators>=0.25->nnunetv2) (1.1.0)\n",
            "Requirement already satisfied: threadpoolctl in /usr/local/lib/python3.10/dist-packages (from batchgenerators>=0.25->nnunetv2) (3.3.0)\n",
            "Requirement already satisfied: networkx>=2.2 in /usr/local/lib/python3.10/dist-packages (from scikit-image>=0.19.3->nnunetv2) (3.2.1)\n",
            "Requirement already satisfied: imageio>=2.4.1 in /usr/local/lib/python3.10/dist-packages (from scikit-image>=0.19.3->nnunetv2) (2.31.6)\n",
            "Requirement already satisfied: PyWavelets>=1.1.1 in /usr/local/lib/python3.10/dist-packages (from scikit-image>=0.19.3->nnunetv2) (1.5.0)\n",
            "Requirement already satisfied: packaging>=20.0 in /usr/local/lib/python3.10/dist-packages (from scikit-image>=0.19.3->nnunetv2) (24.0)\n",
            "Requirement already satisfied: filelock in /usr/local/lib/python3.10/dist-packages (from torch>=2.0.0->nnunetv2) (3.13.1)\n",
            "Requirement already satisfied: typing-extensions>=4.8.0 in /usr/local/lib/python3.10/dist-packages (from torch>=2.0.0->nnunetv2) (4.10.0)\n",
            "Requirement already satisfied: sympy in /usr/local/lib/python3.10/dist-packages (from torch>=2.0.0->nnunetv2) (1.12)\n",
            "Requirement already satisfied: jinja2 in /usr/local/lib/python3.10/dist-packages (from torch>=2.0.0->nnunetv2) (3.1.3)\n",
            "Requirement already satisfied: fsspec in /usr/local/lib/python3.10/dist-packages (from torch>=2.0.0->nnunetv2) (2023.6.0)\n",
            "Requirement already satisfied: nvidia-cuda-nvrtc-cu12==12.1.105 in /usr/local/lib/python3.10/dist-packages (from torch>=2.0.0->nnunetv2) (12.1.105)\n",
            "Requirement already satisfied: nvidia-cuda-runtime-cu12==12.1.105 in /usr/local/lib/python3.10/dist-packages (from torch>=2.0.0->nnunetv2) (12.1.105)\n",
            "Requirement already satisfied: nvidia-cuda-cupti-cu12==12.1.105 in /usr/local/lib/python3.10/dist-packages (from torch>=2.0.0->nnunetv2) (12.1.105)\n",
            "Requirement already satisfied: nvidia-cudnn-cu12==8.9.2.26 in /usr/local/lib/python3.10/dist-packages (from torch>=2.0.0->nnunetv2) (8.9.2.26)\n",
            "Requirement already satisfied: nvidia-cublas-cu12==12.1.3.1 in /usr/local/lib/python3.10/dist-packages (from torch>=2.0.0->nnunetv2) (12.1.3.1)\n",
            "Requirement already satisfied: nvidia-cufft-cu12==11.0.2.54 in /usr/local/lib/python3.10/dist-packages (from torch>=2.0.0->nnunetv2) (11.0.2.54)\n",
            "Requirement already satisfied: nvidia-curand-cu12==10.3.2.106 in /usr/local/lib/python3.10/dist-packages (from torch>=2.0.0->nnunetv2) (10.3.2.106)\n",
            "Requirement already satisfied: nvidia-cusolver-cu12==11.4.5.107 in /usr/local/lib/python3.10/dist-packages (from torch>=2.0.0->nnunetv2) (11.4.5.107)\n",
            "Requirement already satisfied: nvidia-cusparse-cu12==12.1.0.106 in /usr/local/lib/python3.10/dist-packages (from torch>=2.0.0->nnunetv2) (12.1.0.106)\n",
            "Requirement already satisfied: nvidia-nccl-cu12==2.19.3 in /usr/local/lib/python3.10/dist-packages (from torch>=2.0.0->nnunetv2) (2.19.3)\n",
            "Requirement already satisfied: nvidia-nvtx-cu12==12.1.105 in /usr/local/lib/python3.10/dist-packages (from torch>=2.0.0->nnunetv2) (12.1.105)\n",
            "Requirement already satisfied: triton==2.2.0 in /usr/local/lib/python3.10/dist-packages (from torch>=2.0.0->nnunetv2) (2.2.0)\n",
            "Requirement already satisfied: nvidia-nvjitlink-cu12 in /usr/local/lib/python3.10/dist-packages (from nvidia-cusolver-cu12==11.4.5.107->torch>=2.0.0->nnunetv2) (12.4.99)\n",
            "Requirement already satisfied: pydicom>=2.2.0 in /usr/local/lib/python3.10/dist-packages (from dicom2nifti->nnunetv2) (2.4.4)\n",
            "Requirement already satisfied: python-gdcm in /usr/local/lib/python3.10/dist-packages (from dicom2nifti->nnunetv2) (3.0.23)\n",
            "Requirement already satisfied: contourpy>=1.0.1 in /usr/local/lib/python3.10/dist-packages (from matplotlib->nnunetv2) (1.2.0)\n",
            "Requirement already satisfied: cycler>=0.10 in /usr/local/lib/python3.10/dist-packages (from matplotlib->nnunetv2) (0.12.1)\n",
            "Requirement already satisfied: fonttools>=4.22.0 in /usr/local/lib/python3.10/dist-packages (from matplotlib->nnunetv2) (4.50.0)\n",
            "Requirement already satisfied: kiwisolver>=1.0.1 in /usr/local/lib/python3.10/dist-packages (from matplotlib->nnunetv2) (1.4.5)\n",
            "Requirement already satisfied: pyparsing>=2.3.1 in /usr/local/lib/python3.10/dist-packages (from matplotlib->nnunetv2) (3.1.2)\n",
            "Requirement already satisfied: python-dateutil>=2.7 in /usr/local/lib/python3.10/dist-packages (from matplotlib->nnunetv2) (2.8.2)\n",
            "Requirement already satisfied: setuptools in /usr/local/lib/python3.10/dist-packages (from nibabel->nnunetv2) (67.7.2)\n",
            "Requirement already satisfied: pytz>=2020.1 in /usr/local/lib/python3.10/dist-packages (from pandas->nnunetv2) (2023.4)\n",
            "Requirement already satisfied: charset-normalizer<4,>=2 in /usr/local/lib/python3.10/dist-packages (from requests->nnunetv2) (3.3.2)\n",
            "Requirement already satisfied: idna<4,>=2.5 in /usr/local/lib/python3.10/dist-packages (from requests->nnunetv2) (3.6)\n",
            "Requirement already satisfied: urllib3<3,>=1.21.1 in /usr/local/lib/python3.10/dist-packages (from requests->nnunetv2) (2.0.7)\n",
            "Requirement already satisfied: certifi>=2017.4.17 in /usr/local/lib/python3.10/dist-packages (from requests->nnunetv2) (2024.2.2)\n",
            "Requirement already satisfied: joblib>=1.1.1 in /usr/local/lib/python3.10/dist-packages (from scikit-learn->nnunetv2) (1.3.2)\n",
            "Requirement already satisfied: PyYAML in /usr/local/lib/python3.10/dist-packages (from yacs->nnunetv2) (6.0.1)\n",
            "Requirement already satisfied: six>=1.5 in /usr/local/lib/python3.10/dist-packages (from python-dateutil>=2.7->matplotlib->nnunetv2) (1.16.0)\n",
            "Requirement already satisfied: MarkupSafe>=2.0 in /usr/local/lib/python3.10/dist-packages (from jinja2->torch>=2.0.0->nnunetv2) (2.1.5)\n",
            "Requirement already satisfied: mpmath>=0.19 in /usr/local/lib/python3.10/dist-packages (from sympy->torch>=2.0.0->nnunetv2) (1.3.0)\n",
            "Collecting argparse (from unittest2->batchgenerators>=0.25->nnunetv2)\n",
            "  Using cached argparse-1.4.0-py2.py3-none-any.whl (23 kB)\n",
            "Requirement already satisfied: traceback2 in /usr/local/lib/python3.10/dist-packages (from unittest2->batchgenerators>=0.25->nnunetv2) (1.4.0)\n",
            "Requirement already satisfied: linecache2 in /usr/local/lib/python3.10/dist-packages (from traceback2->unittest2->batchgenerators>=0.25->nnunetv2) (1.0.0)\n",
            "Installing collected packages: argparse\n",
            "Successfully installed argparse-1.4.0\n"
          ]
        },
        {
          "output_type": "display_data",
          "data": {
            "application/vnd.colab-display-data+json": {
              "pip_warning": {
                "packages": [
                  "argparse"
                ]
              },
              "id": "fc534b71593a4d698343ed28d7e0db12"
            }
          },
          "metadata": {}
        }
      ]
    },
    {
      "cell_type": "code",
      "source": [
        "# install nnunet - yes it is that easy\n",
        "!pip install nnunetv2"
      ],
      "metadata": {
        "colab": {
          "base_uri": "https://localhost:8080/",
          "height": 1000
        },
        "id": "hu9ERWNqZo9V",
        "outputId": "f222b477-b3cc-4aa3-f9f8-6f6624c050c5"
      },
      "execution_count": null,
      "outputs": [
        {
          "output_type": "stream",
          "name": "stdout",
          "text": [
            "Requirement already satisfied: nnunetv2 in /usr/local/lib/python3.10/dist-packages (2.3.1)\n",
            "Requirement already satisfied: torch>=2.0.0 in /usr/local/lib/python3.10/dist-packages (from nnunetv2) (2.2.1+cu121)\n",
            "Requirement already satisfied: acvl-utils<0.3,>=0.2 in /usr/local/lib/python3.10/dist-packages (from nnunetv2) (0.2)\n",
            "Requirement already satisfied: dynamic-network-architectures<0.4,>=0.2 in /usr/local/lib/python3.10/dist-packages (from nnunetv2) (0.3.1)\n",
            "Requirement already satisfied: tqdm in /usr/local/lib/python3.10/dist-packages (from nnunetv2) (4.66.2)\n",
            "Requirement already satisfied: dicom2nifti in /usr/local/lib/python3.10/dist-packages (from nnunetv2) (2.4.10)\n",
            "Requirement already satisfied: scipy in /usr/local/lib/python3.10/dist-packages (from nnunetv2) (1.11.4)\n",
            "Requirement already satisfied: batchgenerators>=0.25 in /usr/local/lib/python3.10/dist-packages (from nnunetv2) (0.25)\n",
            "Requirement already satisfied: numpy in /usr/local/lib/python3.10/dist-packages (from nnunetv2) (1.25.2)\n",
            "Requirement already satisfied: scikit-learn in /usr/local/lib/python3.10/dist-packages (from nnunetv2) (1.2.2)\n",
            "Requirement already satisfied: scikit-image>=0.19.3 in /usr/local/lib/python3.10/dist-packages (from nnunetv2) (0.19.3)\n",
            "Requirement already satisfied: SimpleITK>=2.2.1 in /usr/local/lib/python3.10/dist-packages (from nnunetv2) (2.3.1)\n",
            "Requirement already satisfied: pandas in /usr/local/lib/python3.10/dist-packages (from nnunetv2) (1.5.3)\n",
            "Requirement already satisfied: graphviz in /usr/local/lib/python3.10/dist-packages (from nnunetv2) (0.20.2)\n",
            "Requirement already satisfied: tifffile in /usr/local/lib/python3.10/dist-packages (from nnunetv2) (2024.2.12)\n",
            "Requirement already satisfied: requests in /usr/local/lib/python3.10/dist-packages (from nnunetv2) (2.31.0)\n",
            "Requirement already satisfied: nibabel in /usr/local/lib/python3.10/dist-packages (from nnunetv2) (4.0.2)\n",
            "Requirement already satisfied: matplotlib in /usr/local/lib/python3.10/dist-packages (from nnunetv2) (3.7.1)\n",
            "Requirement already satisfied: seaborn in /usr/local/lib/python3.10/dist-packages (from nnunetv2) (0.13.1)\n",
            "Requirement already satisfied: imagecodecs in /usr/local/lib/python3.10/dist-packages (from nnunetv2) (2024.1.1)\n",
            "Requirement already satisfied: yacs in /usr/local/lib/python3.10/dist-packages (from nnunetv2) (0.1.8)\n",
            "Requirement already satisfied: connected-components-3d in /usr/local/lib/python3.10/dist-packages (from acvl-utils<0.3,>=0.2->nnunetv2) (3.12.4)\n",
            "Requirement already satisfied: pillow>=7.1.2 in /usr/local/lib/python3.10/dist-packages (from batchgenerators>=0.25->nnunetv2) (9.4.0)\n",
            "Requirement already satisfied: future in /usr/local/lib/python3.10/dist-packages (from batchgenerators>=0.25->nnunetv2) (0.18.3)\n",
            "Requirement already satisfied: unittest2 in /usr/local/lib/python3.10/dist-packages (from batchgenerators>=0.25->nnunetv2) (1.1.0)\n",
            "Requirement already satisfied: threadpoolctl in /usr/local/lib/python3.10/dist-packages (from batchgenerators>=0.25->nnunetv2) (3.3.0)\n",
            "Requirement already satisfied: networkx>=2.2 in /usr/local/lib/python3.10/dist-packages (from scikit-image>=0.19.3->nnunetv2) (3.2.1)\n",
            "Requirement already satisfied: imageio>=2.4.1 in /usr/local/lib/python3.10/dist-packages (from scikit-image>=0.19.3->nnunetv2) (2.31.6)\n",
            "Requirement already satisfied: PyWavelets>=1.1.1 in /usr/local/lib/python3.10/dist-packages (from scikit-image>=0.19.3->nnunetv2) (1.5.0)\n",
            "Requirement already satisfied: packaging>=20.0 in /usr/local/lib/python3.10/dist-packages (from scikit-image>=0.19.3->nnunetv2) (24.0)\n",
            "Requirement already satisfied: filelock in /usr/local/lib/python3.10/dist-packages (from torch>=2.0.0->nnunetv2) (3.13.1)\n",
            "Requirement already satisfied: typing-extensions>=4.8.0 in /usr/local/lib/python3.10/dist-packages (from torch>=2.0.0->nnunetv2) (4.10.0)\n",
            "Requirement already satisfied: sympy in /usr/local/lib/python3.10/dist-packages (from torch>=2.0.0->nnunetv2) (1.12)\n",
            "Requirement already satisfied: jinja2 in /usr/local/lib/python3.10/dist-packages (from torch>=2.0.0->nnunetv2) (3.1.3)\n",
            "Requirement already satisfied: fsspec in /usr/local/lib/python3.10/dist-packages (from torch>=2.0.0->nnunetv2) (2023.6.0)\n",
            "Requirement already satisfied: nvidia-cuda-nvrtc-cu12==12.1.105 in /usr/local/lib/python3.10/dist-packages (from torch>=2.0.0->nnunetv2) (12.1.105)\n",
            "Requirement already satisfied: nvidia-cuda-runtime-cu12==12.1.105 in /usr/local/lib/python3.10/dist-packages (from torch>=2.0.0->nnunetv2) (12.1.105)\n",
            "Requirement already satisfied: nvidia-cuda-cupti-cu12==12.1.105 in /usr/local/lib/python3.10/dist-packages (from torch>=2.0.0->nnunetv2) (12.1.105)\n",
            "Requirement already satisfied: nvidia-cudnn-cu12==8.9.2.26 in /usr/local/lib/python3.10/dist-packages (from torch>=2.0.0->nnunetv2) (8.9.2.26)\n",
            "Requirement already satisfied: nvidia-cublas-cu12==12.1.3.1 in /usr/local/lib/python3.10/dist-packages (from torch>=2.0.0->nnunetv2) (12.1.3.1)\n",
            "Requirement already satisfied: nvidia-cufft-cu12==11.0.2.54 in /usr/local/lib/python3.10/dist-packages (from torch>=2.0.0->nnunetv2) (11.0.2.54)\n",
            "Requirement already satisfied: nvidia-curand-cu12==10.3.2.106 in /usr/local/lib/python3.10/dist-packages (from torch>=2.0.0->nnunetv2) (10.3.2.106)\n",
            "Requirement already satisfied: nvidia-cusolver-cu12==11.4.5.107 in /usr/local/lib/python3.10/dist-packages (from torch>=2.0.0->nnunetv2) (11.4.5.107)\n",
            "Requirement already satisfied: nvidia-cusparse-cu12==12.1.0.106 in /usr/local/lib/python3.10/dist-packages (from torch>=2.0.0->nnunetv2) (12.1.0.106)\n",
            "Requirement already satisfied: nvidia-nccl-cu12==2.19.3 in /usr/local/lib/python3.10/dist-packages (from torch>=2.0.0->nnunetv2) (2.19.3)\n",
            "Requirement already satisfied: nvidia-nvtx-cu12==12.1.105 in /usr/local/lib/python3.10/dist-packages (from torch>=2.0.0->nnunetv2) (12.1.105)\n",
            "Requirement already satisfied: triton==2.2.0 in /usr/local/lib/python3.10/dist-packages (from torch>=2.0.0->nnunetv2) (2.2.0)\n",
            "Requirement already satisfied: nvidia-nvjitlink-cu12 in /usr/local/lib/python3.10/dist-packages (from nvidia-cusolver-cu12==11.4.5.107->torch>=2.0.0->nnunetv2) (12.4.99)\n",
            "Requirement already satisfied: pydicom>=2.2.0 in /usr/local/lib/python3.10/dist-packages (from dicom2nifti->nnunetv2) (2.4.4)\n",
            "Requirement already satisfied: python-gdcm in /usr/local/lib/python3.10/dist-packages (from dicom2nifti->nnunetv2) (3.0.23)\n",
            "Requirement already satisfied: contourpy>=1.0.1 in /usr/local/lib/python3.10/dist-packages (from matplotlib->nnunetv2) (1.2.0)\n",
            "Requirement already satisfied: cycler>=0.10 in /usr/local/lib/python3.10/dist-packages (from matplotlib->nnunetv2) (0.12.1)\n",
            "Requirement already satisfied: fonttools>=4.22.0 in /usr/local/lib/python3.10/dist-packages (from matplotlib->nnunetv2) (4.50.0)\n",
            "Requirement already satisfied: kiwisolver>=1.0.1 in /usr/local/lib/python3.10/dist-packages (from matplotlib->nnunetv2) (1.4.5)\n",
            "Requirement already satisfied: pyparsing>=2.3.1 in /usr/local/lib/python3.10/dist-packages (from matplotlib->nnunetv2) (3.1.2)\n",
            "Requirement already satisfied: python-dateutil>=2.7 in /usr/local/lib/python3.10/dist-packages (from matplotlib->nnunetv2) (2.8.2)\n",
            "Requirement already satisfied: setuptools in /usr/local/lib/python3.10/dist-packages (from nibabel->nnunetv2) (67.7.2)\n",
            "Requirement already satisfied: pytz>=2020.1 in /usr/local/lib/python3.10/dist-packages (from pandas->nnunetv2) (2023.4)\n",
            "Requirement already satisfied: charset-normalizer<4,>=2 in /usr/local/lib/python3.10/dist-packages (from requests->nnunetv2) (3.3.2)\n",
            "Requirement already satisfied: idna<4,>=2.5 in /usr/local/lib/python3.10/dist-packages (from requests->nnunetv2) (3.6)\n",
            "Requirement already satisfied: urllib3<3,>=1.21.1 in /usr/local/lib/python3.10/dist-packages (from requests->nnunetv2) (2.0.7)\n",
            "Requirement already satisfied: certifi>=2017.4.17 in /usr/local/lib/python3.10/dist-packages (from requests->nnunetv2) (2024.2.2)\n",
            "Requirement already satisfied: joblib>=1.1.1 in /usr/local/lib/python3.10/dist-packages (from scikit-learn->nnunetv2) (1.3.2)\n",
            "Requirement already satisfied: PyYAML in /usr/local/lib/python3.10/dist-packages (from yacs->nnunetv2) (6.0.1)\n",
            "Requirement already satisfied: six>=1.5 in /usr/local/lib/python3.10/dist-packages (from python-dateutil>=2.7->matplotlib->nnunetv2) (1.16.0)\n",
            "Requirement already satisfied: MarkupSafe>=2.0 in /usr/local/lib/python3.10/dist-packages (from jinja2->torch>=2.0.0->nnunetv2) (2.1.5)\n",
            "Requirement already satisfied: mpmath>=0.19 in /usr/local/lib/python3.10/dist-packages (from sympy->torch>=2.0.0->nnunetv2) (1.3.0)\n",
            "Collecting argparse (from unittest2->batchgenerators>=0.25->nnunetv2)\n",
            "  Using cached argparse-1.4.0-py2.py3-none-any.whl (23 kB)\n",
            "Requirement already satisfied: traceback2 in /usr/local/lib/python3.10/dist-packages (from unittest2->batchgenerators>=0.25->nnunetv2) (1.4.0)\n",
            "Requirement already satisfied: linecache2 in /usr/local/lib/python3.10/dist-packages (from traceback2->unittest2->batchgenerators>=0.25->nnunetv2) (1.0.0)\n",
            "Installing collected packages: argparse\n",
            "Successfully installed argparse-1.4.0\n"
          ]
        },
        {
          "output_type": "display_data",
          "data": {
            "application/vnd.colab-display-data+json": {
              "pip_warning": {
                "packages": [
                  "argparse"
                ]
              },
              "id": "b5c77996b46a466b8b5f9c75c449b22f"
            }
          },
          "metadata": {}
        }
      ]
    },
    {
      "cell_type": "code",
      "source": [
        "# for colab users only - mounting the drive\n",
        "\n",
        "from google.colab import drive\n",
        "drive.mount('/content/drive',force_remount = True)\n",
        "\n",
        "drive_dir = \"/content/drive/My Drive\"\n",
        "mount_dir = os.path.join(drive_dir, \"Colab Notebooks\")\n",
        "base_dir = os.getcwd()"
      ],
      "metadata": {
        "colab": {
          "base_uri": "https://localhost:8080/"
        },
        "id": "ftqLMUmgZu5y",
        "outputId": "43014402-f92e-48f1-a7c4-1da17b3d8894"
      },
      "execution_count": null,
      "outputs": [
        {
          "output_type": "stream",
          "name": "stdout",
          "text": [
            "Mounted at /content/drive\n"
          ]
        }
      ]
    },
    {
      "cell_type": "code",
      "source": [
        "assert os.path.exists(drive_dir) # if this fails, something went wrong with mounting GoogleDrive\n",
        "if os.path.exists(mount_dir) is False:\n",
        "    os.makedirs(mount_dir)"
      ],
      "metadata": {
        "id": "pOHxkI0AaSbB"
      },
      "execution_count": null,
      "outputs": []
    },
    {
      "cell_type": "code",
      "source": [
        "def make_if_dont_exist(folder_path,overwrite=False):\n",
        "    \"\"\"\n",
        "    creates a folder if it does not exists\n",
        "    input:\n",
        "    folder_path : relative path of the folder which needs to be created\n",
        "    over_write :(default: False) if True overwrite the existing folder\n",
        "    \"\"\"\n",
        "    if os.path.exists(folder_path):\n",
        "\n",
        "        if not overwrite:\n",
        "            print(f\"{folder_path} exists.\")\n",
        "        else:\n",
        "            print(f\"{folder_path} overwritten\")\n",
        "            shutil.rmtree(folder_path)\n",
        "            os.makedirs(folder_path)\n",
        "\n",
        "    else:\n",
        "      os.makedirs(folder_path)\n",
        "      print(f\"{folder_path} created!\")"
      ],
      "metadata": {
        "id": "tTBnHJCKaU-5"
      },
      "execution_count": null,
      "outputs": []
    },
    {
      "cell_type": "code",
      "source": [
        "# Maybe move path of preprocessed data directly on content - this may be signifcantely faster!\n",
        "print(\"Current Working Directory {}\".format(os.getcwd()))\n",
        "path_dict = {\n",
        "    \"nnUNet_raw\" : os.path.join(mount_dir, \"nnUNet_raw\"),\n",
        "    \"nnUNet_preprocessed\" : os.path.join(mount_dir, \"nnUNet_preprocessed\"), # 1 experiment: 1 epoch took 112s\n",
        "    \"nnUNet_results\" : os.path.join(mount_dir, \"nnUNet_results\"),\n",
        "    \"RAW_DATA_PATH\" : os.path.join(mount_dir, \"RawData\"), # This is used here only for convenience (not necessary for nnU-Net)!\n",
        "}\n",
        "\n",
        "# Write paths to environment variables\n",
        "for env_var, path in path_dict.items():\n",
        "  os.environ[env_var] = path\n",
        "\n",
        "# Check whether all environment variables are set correct!\n",
        "for env_var, path in path_dict.items():\n",
        "  if os.getenv(env_var) != path:\n",
        "    print(\"Error:\")\n",
        "    print(\"Environment Variable {} is not set correctly!\".format(env_var))\n",
        "    print(\"Should be {}\".format(path))\n",
        "    print(\"Variable is {}\".format(os.getenv(env_var)))\n",
        "  make_if_dont_exist(path, overwrite=False)\n",
        "\n",
        "print(\"If No Error Occured Continue Forward. =)\")"
      ],
      "metadata": {
        "colab": {
          "base_uri": "https://localhost:8080/"
        },
        "id": "L0ixtgbkaaY-",
        "outputId": "9342bca2-475f-4fa3-cabc-05a5fd5b76c4"
      },
      "execution_count": null,
      "outputs": [
        {
          "output_type": "stream",
          "name": "stdout",
          "text": [
            "Current Working Directory /content\n",
            "/content/drive/My Drive/Colab Notebooks/nnUNet_raw created!\n",
            "/content/drive/My Drive/Colab Notebooks/nnUNet_preprocessed created!\n",
            "/content/drive/My Drive/Colab Notebooks/nnUNet_results created!\n",
            "/content/drive/My Drive/Colab Notebooks/RawData created!\n",
            "If No Error Occured Continue Forward. =)\n"
          ]
        }
      ]
    },
    {
      "cell_type": "code",
      "source": [
        "print(\"Data should be located in folder: {}\".format(path_dict[\"RAW_DATA_PATH\"]))\n",
        "assert os.path.isfile(os.path.join(path_dict[\"RAW_DATA_PATH\"], \"/content/drive/MyDrive/Colab Notebooks/RawData/Task05_Prostate.tar\")) # check whether the file is correctly downloaded"
      ],
      "metadata": {
        "colab": {
          "base_uri": "https://localhost:8080/"
        },
        "id": "gtPTD6abcLM5",
        "outputId": "932ac2b1-fe0a-42ad-ccb1-e674e5b16140"
      },
      "execution_count": null,
      "outputs": [
        {
          "output_type": "stream",
          "name": "stdout",
          "text": [
            "Data should be located in folder: /content/drive/My Drive/Colab Notebooks/RawData\n"
          ]
        }
      ]
    },
    {
      "cell_type": "code",
      "source": [
        "!nnUNetv2_convert_MSD_dataset -i \"${RAW_DATA_PATH}/Task05_Prostate\""
      ],
      "metadata": {
        "id": "5tHani_QdUo1"
      },
      "execution_count": null,
      "outputs": []
    },
    {
      "cell_type": "code",
      "source": [
        "# Prepare the Execution of nnU-Net for Dataset 5\n",
        "!nnUNetv2_plan_and_preprocess -d 5"
      ],
      "metadata": {
        "colab": {
          "base_uri": "https://localhost:8080/"
        },
        "id": "Pq6_ohXPd2Kq",
        "outputId": "6f3577b7-ee39-4f47-eaee-4426df58f63c"
      },
      "execution_count": null,
      "outputs": [
        {
          "output_type": "stream",
          "name": "stdout",
          "text": [
            "Fingerprint extraction...\n",
            "Dataset005_Prostate\n",
            "Using <class 'nnunetv2.imageio.simpleitk_reader_writer.SimpleITKIO'> as reader/writer\n",
            "100% 20/20 [00:34<00:00,  1.73s/it]\n",
            "Experiment planning...\n",
            "Dropping 3d_lowres config because the image size difference to 3d_fullres is too small. 3d_fullres: [ 20. 320. 319.], 3d_lowres: [20, 320, 319]\n",
            "2D U-Net configuration:\n",
            "{'data_identifier': 'nnUNetPlans_2d', 'preprocessor_name': 'DefaultPreprocessor', 'batch_size': 32, 'patch_size': (320, 320), 'median_image_size_in_voxels': array([320., 319.]), 'spacing': array([0.625, 0.625]), 'normalization_schemes': ['ZScoreNormalization', 'ZScoreNormalization'], 'use_mask_for_norm': [False, False], 'resampling_fn_data': 'resample_data_or_seg_to_shape', 'resampling_fn_seg': 'resample_data_or_seg_to_shape', 'resampling_fn_data_kwargs': {'is_seg': False, 'order': 3, 'order_z': 0, 'force_separate_z': None}, 'resampling_fn_seg_kwargs': {'is_seg': True, 'order': 1, 'order_z': 0, 'force_separate_z': None}, 'resampling_fn_probabilities': 'resample_data_or_seg_to_shape', 'resampling_fn_probabilities_kwargs': {'is_seg': False, 'order': 1, 'order_z': 0, 'force_separate_z': None}, 'architecture': {'network_class_name': 'dynamic_network_architectures.architectures.unet.PlainConvUNet', 'arch_kwargs': {'n_stages': 7, 'features_per_stage': (32, 64, 128, 256, 512, 512, 512), 'conv_op': 'torch.nn.modules.conv.Conv2d', 'kernel_sizes': ((3, 3), (3, 3), (3, 3), (3, 3), (3, 3), (3, 3), (3, 3)), 'strides': ((1, 1), (2, 2), (2, 2), (2, 2), (2, 2), (2, 2), (2, 2)), 'n_conv_per_stage': (2, 2, 2, 2, 2, 2, 2), 'n_conv_per_stage_decoder': (2, 2, 2, 2, 2, 2), 'conv_bias': True, 'norm_op': 'torch.nn.modules.instancenorm.InstanceNorm2d', 'norm_op_kwargs': {'eps': 1e-05, 'affine': True}, 'dropout_op': None, 'dropout_op_kwargs': None, 'nonlin': 'torch.nn.LeakyReLU', 'nonlin_kwargs': {'inplace': True}}, '_kw_requires_import': ('conv_op', 'norm_op', 'dropout_op', 'nonlin')}, 'batch_dice': True}\n",
            "\n",
            "Using <class 'nnunetv2.imageio.simpleitk_reader_writer.SimpleITKIO'> as reader/writer\n",
            "3D fullres U-Net configuration:\n",
            "{'data_identifier': 'nnUNetPlans_3d_fullres', 'preprocessor_name': 'DefaultPreprocessor', 'batch_size': 2, 'patch_size': (20, 320, 256), 'median_image_size_in_voxels': array([ 20., 320., 319.]), 'spacing': array([3.59999979, 0.625     , 0.625     ]), 'normalization_schemes': ['ZScoreNormalization', 'ZScoreNormalization'], 'use_mask_for_norm': [False, False], 'resampling_fn_data': 'resample_data_or_seg_to_shape', 'resampling_fn_seg': 'resample_data_or_seg_to_shape', 'resampling_fn_data_kwargs': {'is_seg': False, 'order': 3, 'order_z': 0, 'force_separate_z': None}, 'resampling_fn_seg_kwargs': {'is_seg': True, 'order': 1, 'order_z': 0, 'force_separate_z': None}, 'resampling_fn_probabilities': 'resample_data_or_seg_to_shape', 'resampling_fn_probabilities_kwargs': {'is_seg': False, 'order': 1, 'order_z': 0, 'force_separate_z': None}, 'architecture': {'network_class_name': 'dynamic_network_architectures.architectures.unet.PlainConvUNet', 'arch_kwargs': {'n_stages': 7, 'features_per_stage': (32, 64, 128, 256, 320, 320, 320), 'conv_op': 'torch.nn.modules.conv.Conv3d', 'kernel_sizes': ((1, 3, 3), (1, 3, 3), (3, 3, 3), (3, 3, 3), (3, 3, 3), (3, 3, 3), (3, 3, 3)), 'strides': ((1, 1, 1), (1, 2, 2), (1, 2, 2), (2, 2, 2), (2, 2, 2), (1, 2, 2), (1, 2, 2)), 'n_conv_per_stage': (2, 2, 2, 2, 2, 2, 2), 'n_conv_per_stage_decoder': (2, 2, 2, 2, 2, 2), 'conv_bias': True, 'norm_op': 'torch.nn.modules.instancenorm.InstanceNorm3d', 'norm_op_kwargs': {'eps': 1e-05, 'affine': True}, 'dropout_op': None, 'dropout_op_kwargs': None, 'nonlin': 'torch.nn.LeakyReLU', 'nonlin_kwargs': {'inplace': True}}, '_kw_requires_import': ('conv_op', 'norm_op', 'dropout_op', 'nonlin')}, 'batch_dice': False}\n",
            "\n",
            "Plans were saved to /content/drive/My Drive/Colab Notebooks/nnUNet_preprocessed/Dataset005_Prostate/nnUNetPlans.json\n",
            "Preprocessing...\n",
            "Preprocessing dataset Dataset005_Prostate\n",
            "Configuration: 2d...\n",
            "100% 20/20 [00:39<00:00,  1.96s/it]\n",
            "Configuration: 3d_fullres...\n",
            "100% 20/20 [00:31<00:00,  1.60s/it]\n",
            "Configuration: 3d_lowres...\n",
            "INFO: Configuration 3d_lowres not found in plans file nnUNetPlans.json of dataset Dataset005_Prostate. Skipping.\n"
          ]
        }
      ]
    },
    {
      "cell_type": "code",
      "source": [
        "# Download the Pretrained Model for the Prostate Dataset (Decathlon Dataset)\n",
        "os.chdir(path_dict[\"nnUNet_results\"])\n",
        "!gdown 'https://drive.google.com/uc?export=download&id=1gCdlj-O3hgoMDDw2NM8QxvFIGGVbT9Qy'\n",
        "!nnUNetv2_install_pretrained_model_from_zip nnUNetv2_3dfullres_Model_Dataset005_Prostate.zip\n",
        "!rm 'nnUNetv2_3dfullres_Model_Dataset005_Prostate.zip'\n",
        "os.chdir(base_dir)\n",
        "\n",
        "# takes roughly 9 minutes"
      ],
      "metadata": {
        "colab": {
          "base_uri": "https://localhost:8080/"
        },
        "id": "Ih2vJcK5ehWI",
        "outputId": "8c48218b-e56a-4576-91b4-ada8e9ee0529"
      },
      "execution_count": null,
      "outputs": [
        {
          "output_type": "stream",
          "name": "stdout",
          "text": [
            "Downloading...\n",
            "From (original): https://drive.google.com/uc?export=download&id=1gCdlj-O3hgoMDDw2NM8QxvFIGGVbT9Qy\n",
            "From (redirected): https://drive.google.com/uc?export=download&id=1gCdlj-O3hgoMDDw2NM8QxvFIGGVbT9Qy&confirm=t&uuid=e307ec54-c343-43a9-b45e-30be1ae523e2\n",
            "To: /content/drive/My Drive/Colab Notebooks/nnUNet_results/nnUNetv2_3dfullres_Model_Dataset005_Prostate.zip\n",
            "100% 1.66G/1.66G [00:37<00:00, 44.1MB/s]\n"
          ]
        }
      ]
    },
    {
      "cell_type": "code",
      "source": [
        "# use fully trained nnU-Net to make predictions on data\n",
        "!nnUNetv2_predict -i \"${nnUNet_raw}/Dataset005_Prostate/imagesTs/\" -o \"${nnUNet_results}/Dataset005_Prostate/predTs/\" -d 5 -c 3d_fullres"
      ],
      "metadata": {
        "colab": {
          "base_uri": "https://localhost:8080/"
        },
        "id": "KkGDOwxWequD",
        "outputId": "3cb7934f-c211-4cac-b641-3774307d0487"
      },
      "execution_count": null,
      "outputs": [
        {
          "output_type": "stream",
          "name": "stdout",
          "text": [
            "\n",
            "#######################################################################\n",
            "Please cite the following paper when using nnU-Net:\n",
            "Isensee, F., Jaeger, P. F., Kohl, S. A., Petersen, J., & Maier-Hein, K. H. (2021). nnU-Net: a self-configuring method for deep learning-based biomedical image segmentation. Nature methods, 18(2), 203-211.\n",
            "#######################################################################\n",
            "\n",
            "/usr/local/lib/python3.10/dist-packages/nnunetv2/utilities/plans_handling/plans_handler.py:37: UserWarning: Detected old nnU-Net plans format. Attempting to reconstruct network architecture parameters. If this fails, rerun nnUNetv2_plan_experiment for your dataset. If you use a custom architecture, please downgrade nnU-Net to the version you implemented this or update your implementation + plans.\n",
            "  warnings.warn(\"Detected old nnU-Net plans format. Attempting to reconstruct network architecture \"\n",
            "There are 16 cases in the source folder\n",
            "I am process 0 out of 1 (max process ID is 0, we start counting with 0!)\n",
            "There are 16 cases that I would like to predict\n",
            "\n",
            "Predicting prostate_03:\n",
            "perform_everything_on_device: True\n",
            "100% 2/2 [00:02<00:00,  1.28s/it]\n",
            "100% 2/2 [00:01<00:00,  1.67it/s]\n",
            "100% 2/2 [00:01<00:00,  1.67it/s]\n",
            "100% 2/2 [00:01<00:00,  1.67it/s]\n",
            "100% 2/2 [00:01<00:00,  1.67it/s]\n",
            "sending off prediction to background worker for resampling and export\n",
            "done with prostate_03\n",
            "\n",
            "Predicting prostate_05:\n",
            "perform_everything_on_device: True\n",
            "100% 2/2 [00:01<00:00,  1.66it/s]\n",
            "100% 2/2 [00:01<00:00,  1.67it/s]\n",
            "100% 2/2 [00:01<00:00,  1.66it/s]\n",
            "100% 2/2 [00:01<00:00,  1.65it/s]\n",
            "100% 2/2 [00:01<00:00,  1.65it/s]\n",
            "sending off prediction to background worker for resampling and export\n",
            "done with prostate_05\n",
            "\n",
            "Predicting prostate_08:\n",
            "perform_everything_on_device: True\n",
            "100% 2/2 [00:01<00:00,  1.65it/s]\n",
            "100% 2/2 [00:01<00:00,  1.65it/s]\n",
            "100% 2/2 [00:01<00:00,  1.64it/s]\n",
            "100% 2/2 [00:01<00:00,  1.63it/s]\n",
            "100% 2/2 [00:01<00:00,  1.63it/s]\n",
            "sending off prediction to background worker for resampling and export\n",
            "done with prostate_08\n",
            "\n",
            "Predicting prostate_09:\n",
            "perform_everything_on_device: True\n",
            "100% 2/2 [00:01<00:00,  1.60it/s]\n",
            "100% 2/2 [00:01<00:00,  1.36it/s]\n",
            "100% 2/2 [00:01<00:00,  1.61it/s]\n",
            "100% 2/2 [00:01<00:00,  1.61it/s]\n",
            "100% 2/2 [00:01<00:00,  1.61it/s]\n",
            "sending off prediction to background worker for resampling and export\n",
            "done with prostate_09\n",
            "\n",
            "Predicting prostate_11:\n",
            "perform_everything_on_device: True\n",
            "100% 2/2 [00:01<00:00,  1.60it/s]\n",
            "100% 2/2 [00:01<00:00,  1.60it/s]\n",
            "100% 2/2 [00:01<00:00,  1.59it/s]\n",
            "100% 2/2 [00:01<00:00,  1.58it/s]\n",
            "100% 2/2 [00:01<00:00,  1.58it/s]\n",
            "sending off prediction to background worker for resampling and export\n",
            "done with prostate_11\n",
            "\n",
            "Predicting prostate_12:\n",
            "perform_everything_on_device: True\n",
            "100% 2/2 [00:01<00:00,  1.60it/s]\n",
            "100% 2/2 [00:01<00:00,  1.59it/s]\n",
            "100% 2/2 [00:01<00:00,  1.57it/s]\n",
            "100% 2/2 [00:01<00:00,  1.58it/s]\n",
            "100% 2/2 [00:01<00:00,  1.56it/s]\n",
            "sending off prediction to background worker for resampling and export\n",
            "done with prostate_12\n",
            "\n",
            "Predicting prostate_15:\n",
            "perform_everything_on_device: True\n",
            "100% 2/2 [00:01<00:00,  1.57it/s]\n",
            "100% 2/2 [00:01<00:00,  1.57it/s]\n",
            "100% 2/2 [00:01<00:00,  1.56it/s]\n",
            "100% 2/2 [00:01<00:00,  1.54it/s]\n",
            "100% 2/2 [00:01<00:00,  1.54it/s]\n",
            "sending off prediction to background worker for resampling and export\n",
            "done with prostate_15\n",
            "\n",
            "Predicting prostate_19:\n",
            "perform_everything_on_device: True\n",
            "100% 2/2 [00:01<00:00,  1.55it/s]\n",
            "100% 2/2 [00:01<00:00,  1.54it/s]\n",
            "100% 2/2 [00:01<00:00,  1.52it/s]\n",
            "100% 2/2 [00:01<00:00,  1.52it/s]\n",
            "100% 2/2 [00:01<00:00,  1.51it/s]\n",
            "sending off prediction to background worker for resampling and export\n",
            "done with prostate_19\n",
            "\n",
            "Predicting prostate_22:\n",
            "perform_everything_on_device: True\n",
            "100% 2/2 [00:01<00:00,  1.53it/s]\n",
            "100% 2/2 [00:01<00:00,  1.52it/s]\n",
            "100% 2/2 [00:01<00:00,  1.51it/s]\n",
            "100% 2/2 [00:01<00:00,  1.50it/s]\n",
            "100% 2/2 [00:01<00:00,  1.49it/s]\n",
            "sending off prediction to background worker for resampling and export\n",
            "done with prostate_22\n",
            "\n",
            "Predicting prostate_23:\n",
            "perform_everything_on_device: True\n",
            "100% 2/2 [00:01<00:00,  1.48it/s]\n",
            "100% 2/2 [00:01<00:00,  1.47it/s]\n",
            "100% 2/2 [00:01<00:00,  1.47it/s]\n",
            "100% 2/2 [00:01<00:00,  1.47it/s]\n",
            "100% 2/2 [00:01<00:00,  1.45it/s]\n",
            "sending off prediction to background worker for resampling and export\n",
            "done with prostate_23\n",
            "\n",
            "Predicting prostate_26:\n",
            "perform_everything_on_device: True\n",
            "100% 2/2 [00:01<00:00,  1.44it/s]\n",
            "100% 2/2 [00:01<00:00,  1.43it/s]\n",
            "100% 2/2 [00:01<00:00,  1.41it/s]\n",
            "100% 2/2 [00:01<00:00,  1.41it/s]\n",
            "100% 2/2 [00:01<00:00,  1.41it/s]\n",
            "sending off prediction to background worker for resampling and export\n",
            "done with prostate_26\n",
            "\n",
            "Predicting prostate_27:\n",
            "perform_everything_on_device: True\n",
            "100% 2/2 [00:01<00:00,  1.42it/s]\n",
            "100% 2/2 [00:01<00:00,  1.41it/s]\n",
            "100% 2/2 [00:01<00:00,  1.42it/s]\n",
            "100% 2/2 [00:01<00:00,  1.43it/s]\n",
            "100% 2/2 [00:01<00:00,  1.44it/s]\n",
            "sending off prediction to background worker for resampling and export\n",
            "done with prostate_27\n",
            "\n",
            "Predicting prostate_30:\n",
            "perform_everything_on_device: True\n",
            "100% 2/2 [00:01<00:00,  1.45it/s]\n",
            "100% 2/2 [00:01<00:00,  1.45it/s]\n",
            "100% 2/2 [00:01<00:00,  1.46it/s]\n",
            "100% 2/2 [00:01<00:00,  1.46it/s]\n",
            "100% 2/2 [00:01<00:00,  1.47it/s]\n",
            "sending off prediction to background worker for resampling and export\n",
            "done with prostate_30\n",
            "\n",
            "Predicting prostate_33:\n",
            "perform_everything_on_device: True\n",
            "100% 2/2 [00:01<00:00,  1.47it/s]\n",
            "100% 2/2 [00:01<00:00,  1.48it/s]\n",
            "100% 2/2 [00:01<00:00,  1.48it/s]\n",
            "100% 2/2 [00:01<00:00,  1.49it/s]\n",
            "100% 2/2 [00:01<00:00,  1.48it/s]\n",
            "sending off prediction to background worker for resampling and export\n",
            "done with prostate_33\n",
            "\n",
            "Predicting prostate_36:\n",
            "perform_everything_on_device: True\n",
            "100% 2/2 [00:01<00:00,  1.50it/s]\n",
            "100% 2/2 [00:01<00:00,  1.50it/s]\n",
            "100% 2/2 [00:01<00:00,  1.50it/s]\n",
            "100% 2/2 [00:01<00:00,  1.50it/s]\n",
            "100% 2/2 [00:01<00:00,  1.49it/s]\n",
            "sending off prediction to background worker for resampling and export\n",
            "done with prostate_36\n",
            "\n",
            "Predicting prostate_45:\n",
            "perform_everything_on_device: True\n",
            "100% 2/2 [00:01<00:00,  1.51it/s]\n",
            "100% 2/2 [00:01<00:00,  1.50it/s]\n",
            "100% 2/2 [00:01<00:00,  1.51it/s]\n",
            "100% 2/2 [00:01<00:00,  1.50it/s]\n",
            "100% 2/2 [00:01<00:00,  1.50it/s]\n",
            "sending off prediction to background worker for resampling and export\n",
            "done with prostate_45\n"
          ]
        }
      ]
    },
    {
      "cell_type": "code",
      "source": [
        "# Create Folderstructure for the new dataset!\n",
        "dataset_name = 'Dataset501_SCGM' #change here for different dataset name\n",
        "nnunet_raw_data = os.path.join(os.getenv(\"nnUNet_raw\"))\n",
        "task_folder_name = os.path.join(nnunet_raw_data,dataset_name)\n",
        "train_image_dir = os.path.join(task_folder_name,'imagesTr')\n",
        "train_label_dir = os.path.join(task_folder_name,'labelsTr')\n",
        "test_dir = os.path.join(task_folder_name,'imagesTs')\n",
        "\n",
        "# Create Folder Structure for the SCGM dataset on the system\n",
        "make_if_dont_exist(task_folder_name)\n",
        "make_if_dont_exist(train_image_dir)\n",
        "make_if_dont_exist(train_label_dir)\n",
        "make_if_dont_exist(test_dir)\n",
        "\n",
        "training_data_name=\"training-data-gm-sc-challenge-ismrm16-v20160302b\"\n",
        "test_data_name=\"test-data-gm-sc-challenge-ismrm16-v20160401\""
      ],
      "metadata": {
        "colab": {
          "base_uri": "https://localhost:8080/"
        },
        "id": "nYkbmH_de0RS",
        "outputId": "4dab2c21-4045-4a84-e0bd-c706335f2a7f"
      },
      "execution_count": null,
      "outputs": [
        {
          "output_type": "stream",
          "name": "stdout",
          "text": [
            "/content/drive/My Drive/Colab Notebooks/nnUNet_raw/Dataset501_SCGM created!\n",
            "/content/drive/My Drive/Colab Notebooks/nnUNet_raw/Dataset501_SCGM/imagesTr created!\n",
            "/content/drive/My Drive/Colab Notebooks/nnUNet_raw/Dataset501_SCGM/labelsTr created!\n",
            "/content/drive/My Drive/Colab Notebooks/nnUNet_raw/Dataset501_SCGM/imagesTs created!\n"
          ]
        }
      ]
    },
    {
      "cell_type": "code",
      "source": [
        "# only for in poerson workshops\n",
        "\n",
        "os.chdir(task_folder_name)\n",
        "# download training data\n",
        "!gdown 'https://drive.google.com/uc?export=download&id=1gCdlj-O3hgoMDDw2NM8QxvFIGGVbT9Qy'\n",
        "!ls\n",
        "os.chdir(base_dir)"
      ],
      "metadata": {
        "colab": {
          "base_uri": "https://localhost:8080/"
        },
        "id": "cSZCsr4Ze1Td",
        "outputId": "12a3b6bd-27d2-4e39-8b36-b92a935cda4e"
      },
      "execution_count": null,
      "outputs": [
        {
          "output_type": "stream",
          "name": "stdout",
          "text": [
            "Downloading...\n",
            "From (original): https://drive.google.com/uc?export=download&id=1gCdlj-O3hgoMDDw2NM8QxvFIGGVbT9Qy\n",
            "From (redirected): https://drive.google.com/uc?export=download&id=1gCdlj-O3hgoMDDw2NM8QxvFIGGVbT9Qy&confirm=t&uuid=cadf1339-23bd-4b2b-8258-dbc98f9778d6\n",
            "To: /content/drive/My Drive/Colab Notebooks/nnUNet_raw/Dataset501_SCGM/nnUNetv2_3dfullres_Model_Dataset005_Prostate.zip\n",
            "100% 1.66G/1.66G [00:24<00:00, 68.3MB/s]\n",
            "imagesTr  imagesTs  labelsTr  nnUNetv2_3dfullres_Model_Dataset005_Prostate.zip\n"
          ]
        }
      ]
    },
    {
      "cell_type": "code",
      "source": [
        "# continue from here again.\n",
        "task_folder_name = \"/content/drive/MyDrive/Colab Notebooks/nnUNet_raw/Dataset501_SCGM/nnUNetv2_3dfullres_Model_Dataset005_Prostate.zip\"\n",
        "\n",
        "if os.path.isfile(task_folder_name):\n",
        "    print(\"Training file for SCGM Challenge exists\")\n",
        "else:\n",
        "    print(\"Please download the dataset zip file and place it at the following location: \\n{}\".format(task_folder_name))"
      ],
      "metadata": {
        "colab": {
          "base_uri": "https://localhost:8080/"
        },
        "id": "y_IiSj5igiTd",
        "outputId": "a392e135-b405-4dff-cce2-b03f76d9c53b"
      },
      "execution_count": null,
      "outputs": [
        {
          "output_type": "stream",
          "name": "stdout",
          "text": [
            "Training file for SCGM Challenge exists\n"
          ]
        }
      ]
    },
    {
      "cell_type": "code",
      "source": [
        "#unzipping in nnUNet_raw folder the training data\n",
        "# Specify the path to the zip file\n",
        "zip_file_path = \"/content/drive/MyDrive/Colab Notebooks/nnUNet_raw/Dataset501_SCGM/nnUNetv2_3dfullres_Model_Dataset005_Prostate.zip\"\n",
        "\n",
        "# Specify the directory where you want to extract the contents of the zip file\n",
        "extracted_folder_path = \"/content/drive/MyDrive/Colab Notebooks/nnUNet_raw/Dataset501_SCGM/\"\n",
        "\n",
        "# Execute the unzip command\n",
        "!unzip \"{zip_file_path}\" -d \"{extracted_folder_path}\""
      ],
      "metadata": {
        "colab": {
          "base_uri": "https://localhost:8080/"
        },
        "id": "O2kYgFR7hyn5",
        "outputId": "555ae03c-1bcf-4cdb-bf71-ab998eacb04c"
      },
      "execution_count": null,
      "outputs": [
        {
          "output_type": "stream",
          "name": "stdout",
          "text": [
            "Archive:  /content/drive/MyDrive/Colab Notebooks/nnUNet_raw/Dataset501_SCGM/nnUNetv2_3dfullres_Model_Dataset005_Prostate.zip\n",
            "  inflating: /content/drive/MyDrive/Colab Notebooks/nnUNet_raw/Dataset501_SCGM/Dataset005_Prostate/nnUNetTrainer__nnUNetPlans__3d_fullres/fold_0/debug.json  \n",
            "  inflating: /content/drive/MyDrive/Colab Notebooks/nnUNet_raw/Dataset501_SCGM/Dataset005_Prostate/nnUNetTrainer__nnUNetPlans__3d_fullres/fold_0/checkpoint_final.pth  \n",
            "  inflating: /content/drive/MyDrive/Colab Notebooks/nnUNet_raw/Dataset501_SCGM/Dataset005_Prostate/nnUNetTrainer__nnUNetPlans__3d_fullres/fold_0/progress.png  \n",
            "  inflating: /content/drive/MyDrive/Colab Notebooks/nnUNet_raw/Dataset501_SCGM/Dataset005_Prostate/nnUNetTrainer__nnUNetPlans__3d_fullres/fold_0/validation/summary.json  \n",
            "  inflating: /content/drive/MyDrive/Colab Notebooks/nnUNet_raw/Dataset501_SCGM/Dataset005_Prostate/nnUNetTrainer__nnUNetPlans__3d_fullres/fold_1/debug.json  \n",
            "  inflating: /content/drive/MyDrive/Colab Notebooks/nnUNet_raw/Dataset501_SCGM/Dataset005_Prostate/nnUNetTrainer__nnUNetPlans__3d_fullres/fold_1/checkpoint_final.pth  \n",
            "  inflating: /content/drive/MyDrive/Colab Notebooks/nnUNet_raw/Dataset501_SCGM/Dataset005_Prostate/nnUNetTrainer__nnUNetPlans__3d_fullres/fold_1/progress.png  \n",
            "  inflating: /content/drive/MyDrive/Colab Notebooks/nnUNet_raw/Dataset501_SCGM/Dataset005_Prostate/nnUNetTrainer__nnUNetPlans__3d_fullres/fold_1/validation/summary.json  \n",
            "  inflating: /content/drive/MyDrive/Colab Notebooks/nnUNet_raw/Dataset501_SCGM/Dataset005_Prostate/nnUNetTrainer__nnUNetPlans__3d_fullres/fold_2/debug.json  \n",
            "  inflating: /content/drive/MyDrive/Colab Notebooks/nnUNet_raw/Dataset501_SCGM/Dataset005_Prostate/nnUNetTrainer__nnUNetPlans__3d_fullres/fold_2/checkpoint_final.pth  \n",
            "  inflating: /content/drive/MyDrive/Colab Notebooks/nnUNet_raw/Dataset501_SCGM/Dataset005_Prostate/nnUNetTrainer__nnUNetPlans__3d_fullres/fold_2/progress.png  \n",
            "  inflating: /content/drive/MyDrive/Colab Notebooks/nnUNet_raw/Dataset501_SCGM/Dataset005_Prostate/nnUNetTrainer__nnUNetPlans__3d_fullres/fold_2/validation/summary.json  \n",
            "  inflating: /content/drive/MyDrive/Colab Notebooks/nnUNet_raw/Dataset501_SCGM/Dataset005_Prostate/nnUNetTrainer__nnUNetPlans__3d_fullres/fold_3/debug.json  \n",
            "  inflating: /content/drive/MyDrive/Colab Notebooks/nnUNet_raw/Dataset501_SCGM/Dataset005_Prostate/nnUNetTrainer__nnUNetPlans__3d_fullres/fold_3/checkpoint_final.pth  \n",
            "  inflating: /content/drive/MyDrive/Colab Notebooks/nnUNet_raw/Dataset501_SCGM/Dataset005_Prostate/nnUNetTrainer__nnUNetPlans__3d_fullres/fold_3/progress.png  \n",
            "  inflating: /content/drive/MyDrive/Colab Notebooks/nnUNet_raw/Dataset501_SCGM/Dataset005_Prostate/nnUNetTrainer__nnUNetPlans__3d_fullres/fold_3/validation/summary.json  \n",
            "  inflating: /content/drive/MyDrive/Colab Notebooks/nnUNet_raw/Dataset501_SCGM/Dataset005_Prostate/nnUNetTrainer__nnUNetPlans__3d_fullres/fold_4/debug.json  \n",
            "  inflating: /content/drive/MyDrive/Colab Notebooks/nnUNet_raw/Dataset501_SCGM/Dataset005_Prostate/nnUNetTrainer__nnUNetPlans__3d_fullres/fold_4/checkpoint_final.pth  \n",
            "  inflating: /content/drive/MyDrive/Colab Notebooks/nnUNet_raw/Dataset501_SCGM/Dataset005_Prostate/nnUNetTrainer__nnUNetPlans__3d_fullres/fold_4/progress.png  \n",
            "  inflating: /content/drive/MyDrive/Colab Notebooks/nnUNet_raw/Dataset501_SCGM/Dataset005_Prostate/nnUNetTrainer__nnUNetPlans__3d_fullres/fold_4/validation/summary.json  \n",
            "  inflating: /content/drive/MyDrive/Colab Notebooks/nnUNet_raw/Dataset501_SCGM/Dataset005_Prostate/nnUNetTrainer__nnUNetPlans__3d_fullres/plans.json  \n",
            "  inflating: /content/drive/MyDrive/Colab Notebooks/nnUNet_raw/Dataset501_SCGM/Dataset005_Prostate/nnUNetTrainer__nnUNetPlans__3d_fullres/dataset_fingerprint.json  \n",
            "  inflating: /content/drive/MyDrive/Colab Notebooks/nnUNet_raw/Dataset501_SCGM/Dataset005_Prostate/nnUNetTrainer__nnUNetPlans__3d_fullres/dataset.json  \n"
          ]
        }
      ]
    },
    {
      "cell_type": "code",
      "source": [
        "# function for copying, savind and renaming\n",
        "def copy_and_rename(old_location,old_file_name,new_location,new_filename,delete_original = False):\n",
        "\n",
        "    shutil.copy(os.path.join(old_location,old_file_name),new_location)\n",
        "    os.rename(os.path.join(new_location,old_file_name),os.path.join(new_location,new_filename))\n",
        "    if delete_original:\n",
        "        os.remove(os.path.join(old_location,old_file_name))\n",
        "\n",
        "# putting training images into folder\n",
        "\n",
        "mask_count = 4 # change if more mask is available\n",
        "base_data_folder_name = os.path.join(task_folder_name, \"training-data-gm-sc-challenge-ismrm16-v20160302b\")\n",
        "\n",
        "for file in os.listdir(base_data_folder_name):\n",
        "    # print(file)\n",
        "    if file.endswith('.nii.gz'):\n",
        "        if file.find('mask')!=-1:\n",
        "            # putting mask\n",
        "            shutil.move(os.path.join(base_data_folder_name,file),train_label_dir)\n",
        "        else:\n",
        "            # making 4 copies\n",
        "            for mask in range(1,mask_count+1):\n",
        "                new_filename = file[:file.find('-image')] + '-mask-r' + str(mask) + '.nii.gz'\n",
        "                if mask==mask_count:\n",
        "                    copy_and_rename(base_data_folder_name,file,train_image_dir,new_filename,delete_original = True)\n",
        "                else:\n",
        "                    copy_and_rename(base_data_folder_name,file,train_image_dir,new_filename)\n",
        "    # removing all other files installed due to the unzip\n",
        "    elif file.endswith('.txt'):\n",
        "        os.remove(os.path.join(base_data_folder_name,file))"
      ],
      "metadata": {
        "id": "yM8DJfSKlcLK",
        "outputId": "6c7c4367-aef9-4fd3-ecd6-13200b55cbda",
        "colab": {
          "base_uri": "https://localhost:8080/",
          "height": 228
        }
      },
      "execution_count": null,
      "outputs": [
        {
          "output_type": "error",
          "ename": "NotADirectoryError",
          "evalue": "[Errno 20] Not a directory: '/content/drive/MyDrive/Colab Notebooks/nnUNet_raw/Dataset501_SCGM/nnUNetv2_3dfullres_Model_Dataset005_Prostate.zip/training-data-gm-sc-challenge-ismrm16-v20160302b'",
          "traceback": [
            "\u001b[0;31m---------------------------------------------------------------------------\u001b[0m",
            "\u001b[0;31mNotADirectoryError\u001b[0m                        Traceback (most recent call last)",
            "\u001b[0;32m<ipython-input-48-b99d15c27b00>\u001b[0m in \u001b[0;36m<cell line: 14>\u001b[0;34m()\u001b[0m\n\u001b[1;32m     12\u001b[0m \u001b[0mbase_data_folder_name\u001b[0m \u001b[0;34m=\u001b[0m \u001b[0mos\u001b[0m\u001b[0;34m.\u001b[0m\u001b[0mpath\u001b[0m\u001b[0;34m.\u001b[0m\u001b[0mjoin\u001b[0m\u001b[0;34m(\u001b[0m\u001b[0mtask_folder_name\u001b[0m\u001b[0;34m,\u001b[0m \u001b[0;34m\"training-data-gm-sc-challenge-ismrm16-v20160302b\"\u001b[0m\u001b[0;34m)\u001b[0m\u001b[0;34m\u001b[0m\u001b[0;34m\u001b[0m\u001b[0m\n\u001b[1;32m     13\u001b[0m \u001b[0;34m\u001b[0m\u001b[0m\n\u001b[0;32m---> 14\u001b[0;31m \u001b[0;32mfor\u001b[0m \u001b[0mfile\u001b[0m \u001b[0;32min\u001b[0m \u001b[0mos\u001b[0m\u001b[0;34m.\u001b[0m\u001b[0mlistdir\u001b[0m\u001b[0;34m(\u001b[0m\u001b[0mbase_data_folder_name\u001b[0m\u001b[0;34m)\u001b[0m\u001b[0;34m:\u001b[0m\u001b[0;34m\u001b[0m\u001b[0;34m\u001b[0m\u001b[0m\n\u001b[0m\u001b[1;32m     15\u001b[0m     \u001b[0;31m# print(file)\u001b[0m\u001b[0;34m\u001b[0m\u001b[0;34m\u001b[0m\u001b[0m\n\u001b[1;32m     16\u001b[0m     \u001b[0;32mif\u001b[0m \u001b[0mfile\u001b[0m\u001b[0;34m.\u001b[0m\u001b[0mendswith\u001b[0m\u001b[0;34m(\u001b[0m\u001b[0;34m'.nii.gz'\u001b[0m\u001b[0;34m)\u001b[0m\u001b[0;34m:\u001b[0m\u001b[0;34m\u001b[0m\u001b[0;34m\u001b[0m\u001b[0m\n",
            "\u001b[0;31mNotADirectoryError\u001b[0m: [Errno 20] Not a directory: '/content/drive/MyDrive/Colab Notebooks/nnUNet_raw/Dataset501_SCGM/nnUNetv2_3dfullres_Model_Dataset005_Prostate.zip/training-data-gm-sc-challenge-ismrm16-v20160302b'"
          ]
        }
      ]
    }
  ]
}
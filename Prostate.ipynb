{
  "nbformat": 4,
  "nbformat_minor": 0,
  "metadata": {
    "colab": {
      "provenance": [],
      "gpuType": "T4",
      "mount_file_id": "1DlwqsHFj3gZ1OgdlSxp20_-uwXd6MHDc",
      "authorship_tag": "ABX9TyN6grqaWLq3a2PRv6lzJSYo",
      "include_colab_link": true
    },
    "kernelspec": {
      "name": "python3",
      "display_name": "Python 3"
    },
    "language_info": {
      "name": "python"
    },
    "accelerator": "GPU"
  },
  "cells": [
    {
      "cell_type": "markdown",
      "metadata": {
        "id": "view-in-github",
        "colab_type": "text"
      },
      "source": [
        "<a href=\"https://colab.research.google.com/github/Pickles91/DCAC/blob/main/Prostate.ipynb\" target=\"_parent\"><img src=\"https://colab.research.google.com/assets/colab-badge.svg\" alt=\"Open In Colab\"/></a>"
      ]
    },
    {
      "cell_type": "code",
      "execution_count": 2,
      "metadata": {
        "id": "Ebu5jAXJY11h"
      },
      "outputs": [],
      "source": [
        "# Import basic packages for later use\n",
        "import os\n",
        "import shutil\n",
        "from collections import OrderedDict\n",
        "\n",
        "import json\n",
        "import matplotlib.pyplot as plt\n",
        "import nibabel as nib\n",
        "\n",
        "import numpy as np\n",
        "import torch"
      ]
    },
    {
      "cell_type": "code",
      "source": [
        "# check whether GPU accelerated computing is available\n",
        "assert torch.cuda.is_available() # if there is an error here, enable GPU in the Runtime"
      ],
      "metadata": {
        "id": "DE1ZxqrvY6DU"
      },
      "execution_count": 3,
      "outputs": []
    },
    {
      "cell_type": "code",
      "source": [
        "# install nnunet - yes it is that easy\n",
        "!pip install nnunetv2"
      ],
      "metadata": {
        "colab": {
          "base_uri": "https://localhost:8080/"
        },
        "id": "3jkGhy-HZMM-",
        "outputId": "dc580cd2-a25b-487a-92d2-09d7cb2edc1a"
      },
      "execution_count": 4,
      "outputs": [
        {
          "output_type": "stream",
          "name": "stdout",
          "text": [
            "Collecting nnunetv2\n",
            "  Downloading nnunetv2-2.3.1.tar.gz (182 kB)\n",
            "\u001b[2K     \u001b[90m━━━━━━━━━━━━━━━━━━━━━━━━━━━━━━━━━━━━━━━━\u001b[0m \u001b[32m182.5/182.5 kB\u001b[0m \u001b[31m1.7 MB/s\u001b[0m eta \u001b[36m0:00:00\u001b[0m\n",
            "\u001b[?25h  Installing build dependencies ... \u001b[?25l\u001b[?25hdone\n",
            "  Getting requirements to build wheel ... \u001b[?25l\u001b[?25hdone\n",
            "  Preparing metadata (pyproject.toml) ... \u001b[?25l\u001b[?25hdone\n",
            "Requirement already satisfied: torch>=2.0.0 in /usr/local/lib/python3.10/dist-packages (from nnunetv2) (2.2.1+cu121)\n",
            "Collecting acvl-utils<0.3,>=0.2 (from nnunetv2)\n",
            "  Downloading acvl_utils-0.2.tar.gz (18 kB)\n",
            "  Preparing metadata (setup.py) ... \u001b[?25l\u001b[?25hdone\n",
            "Collecting dynamic-network-architectures<0.4,>=0.2 (from nnunetv2)\n",
            "  Downloading dynamic_network_architectures-0.3.1.tar.gz (20 kB)\n",
            "  Preparing metadata (setup.py) ... \u001b[?25l\u001b[?25hdone\n",
            "Requirement already satisfied: tqdm in /usr/local/lib/python3.10/dist-packages (from nnunetv2) (4.66.2)\n",
            "Collecting dicom2nifti (from nnunetv2)\n",
            "  Downloading dicom2nifti-2.4.10-py3-none-any.whl (43 kB)\n",
            "\u001b[2K     \u001b[90m━━━━━━━━━━━━━━━━━━━━━━━━━━━━━━━━━━━━━━━━\u001b[0m \u001b[32m43.6/43.6 kB\u001b[0m \u001b[31m6.0 MB/s\u001b[0m eta \u001b[36m0:00:00\u001b[0m\n",
            "\u001b[?25hRequirement already satisfied: scipy in /usr/local/lib/python3.10/dist-packages (from nnunetv2) (1.11.4)\n",
            "Collecting batchgenerators>=0.25 (from nnunetv2)\n",
            "  Downloading batchgenerators-0.25.tar.gz (61 kB)\n",
            "\u001b[2K     \u001b[90m━━━━━━━━━━━━━━━━━━━━━━━━━━━━━━━━━━━━━━━━\u001b[0m \u001b[32m61.7/61.7 kB\u001b[0m \u001b[31m7.0 MB/s\u001b[0m eta \u001b[36m0:00:00\u001b[0m\n",
            "\u001b[?25h  Preparing metadata (setup.py) ... \u001b[?25l\u001b[?25hdone\n",
            "Requirement already satisfied: numpy in /usr/local/lib/python3.10/dist-packages (from nnunetv2) (1.25.2)\n",
            "Requirement already satisfied: scikit-learn in /usr/local/lib/python3.10/dist-packages (from nnunetv2) (1.2.2)\n",
            "Requirement already satisfied: scikit-image>=0.19.3 in /usr/local/lib/python3.10/dist-packages (from nnunetv2) (0.19.3)\n",
            "Collecting SimpleITK>=2.2.1 (from nnunetv2)\n",
            "  Downloading SimpleITK-2.3.1-cp310-cp310-manylinux_2_17_x86_64.manylinux2014_x86_64.whl (52.7 MB)\n",
            "\u001b[2K     \u001b[90m━━━━━━━━━━━━━━━━━━━━━━━━━━━━━━━━━━━━━━━━\u001b[0m \u001b[32m52.7/52.7 MB\u001b[0m \u001b[31m1.7 MB/s\u001b[0m eta \u001b[36m0:00:00\u001b[0m\n",
            "\u001b[?25hRequirement already satisfied: pandas in /usr/local/lib/python3.10/dist-packages (from nnunetv2) (1.5.3)\n",
            "Requirement already satisfied: graphviz in /usr/local/lib/python3.10/dist-packages (from nnunetv2) (0.20.3)\n",
            "Requirement already satisfied: tifffile in /usr/local/lib/python3.10/dist-packages (from nnunetv2) (2024.2.12)\n",
            "Requirement already satisfied: requests in /usr/local/lib/python3.10/dist-packages (from nnunetv2) (2.31.0)\n",
            "Requirement already satisfied: nibabel in /usr/local/lib/python3.10/dist-packages (from nnunetv2) (4.0.2)\n",
            "Requirement already satisfied: matplotlib in /usr/local/lib/python3.10/dist-packages (from nnunetv2) (3.7.1)\n",
            "Requirement already satisfied: seaborn in /usr/local/lib/python3.10/dist-packages (from nnunetv2) (0.13.1)\n",
            "Collecting imagecodecs (from nnunetv2)\n",
            "  Downloading imagecodecs-2024.1.1-cp310-cp310-manylinux_2_17_x86_64.manylinux2014_x86_64.whl (39.6 MB)\n",
            "\u001b[2K     \u001b[90m━━━━━━━━━━━━━━━━━━━━━━━━━━━━━━━━━━━━━━━━\u001b[0m \u001b[32m39.6/39.6 MB\u001b[0m \u001b[31m1.6 MB/s\u001b[0m eta \u001b[36m0:00:00\u001b[0m\n",
            "\u001b[?25hCollecting yacs (from nnunetv2)\n",
            "  Downloading yacs-0.1.8-py3-none-any.whl (14 kB)\n",
            "Collecting connected-components-3d (from acvl-utils<0.3,>=0.2->nnunetv2)\n",
            "  Downloading connected_components_3d-3.12.4-cp310-cp310-manylinux_2_17_x86_64.manylinux2014_x86_64.whl (3.1 MB)\n",
            "\u001b[2K     \u001b[90m━━━━━━━━━━━━━━━━━━━━━━━━━━━━━━━━━━━━━━━━\u001b[0m \u001b[32m3.1/3.1 MB\u001b[0m \u001b[31m2.1 MB/s\u001b[0m eta \u001b[36m0:00:00\u001b[0m\n",
            "\u001b[?25hRequirement already satisfied: pillow>=7.1.2 in /usr/local/lib/python3.10/dist-packages (from batchgenerators>=0.25->nnunetv2) (9.4.0)\n",
            "Requirement already satisfied: future in /usr/local/lib/python3.10/dist-packages (from batchgenerators>=0.25->nnunetv2) (0.18.3)\n",
            "Collecting unittest2 (from batchgenerators>=0.25->nnunetv2)\n",
            "  Downloading unittest2-1.1.0-py2.py3-none-any.whl (96 kB)\n",
            "\u001b[2K     \u001b[90m━━━━━━━━━━━━━━━━━━━━━━━━━━━━━━━━━━━━━━━━\u001b[0m \u001b[32m96.4/96.4 kB\u001b[0m \u001b[31m2.6 MB/s\u001b[0m eta \u001b[36m0:00:00\u001b[0m\n",
            "\u001b[?25hRequirement already satisfied: threadpoolctl in /usr/local/lib/python3.10/dist-packages (from batchgenerators>=0.25->nnunetv2) (3.4.0)\n",
            "Requirement already satisfied: networkx>=2.2 in /usr/local/lib/python3.10/dist-packages (from scikit-image>=0.19.3->nnunetv2) (3.2.1)\n",
            "Requirement already satisfied: imageio>=2.4.1 in /usr/local/lib/python3.10/dist-packages (from scikit-image>=0.19.3->nnunetv2) (2.31.6)\n",
            "Requirement already satisfied: PyWavelets>=1.1.1 in /usr/local/lib/python3.10/dist-packages (from scikit-image>=0.19.3->nnunetv2) (1.5.0)\n",
            "Requirement already satisfied: packaging>=20.0 in /usr/local/lib/python3.10/dist-packages (from scikit-image>=0.19.3->nnunetv2) (24.0)\n",
            "Requirement already satisfied: filelock in /usr/local/lib/python3.10/dist-packages (from torch>=2.0.0->nnunetv2) (3.13.3)\n",
            "Requirement already satisfied: typing-extensions>=4.8.0 in /usr/local/lib/python3.10/dist-packages (from torch>=2.0.0->nnunetv2) (4.10.0)\n",
            "Requirement already satisfied: sympy in /usr/local/lib/python3.10/dist-packages (from torch>=2.0.0->nnunetv2) (1.12)\n",
            "Requirement already satisfied: jinja2 in /usr/local/lib/python3.10/dist-packages (from torch>=2.0.0->nnunetv2) (3.1.3)\n",
            "Requirement already satisfied: fsspec in /usr/local/lib/python3.10/dist-packages (from torch>=2.0.0->nnunetv2) (2023.6.0)\n",
            "Collecting nvidia-cuda-nvrtc-cu12==12.1.105 (from torch>=2.0.0->nnunetv2)\n",
            "  Downloading nvidia_cuda_nvrtc_cu12-12.1.105-py3-none-manylinux1_x86_64.whl (23.7 MB)\n",
            "\u001b[2K     \u001b[90m━━━━━━━━━━━━━━━━━━━━━━━━━━━━━━━━━━━━━━━━\u001b[0m \u001b[32m23.7/23.7 MB\u001b[0m \u001b[31m1.5 MB/s\u001b[0m eta \u001b[36m0:00:00\u001b[0m\n",
            "\u001b[?25hCollecting nvidia-cuda-runtime-cu12==12.1.105 (from torch>=2.0.0->nnunetv2)\n",
            "  Downloading nvidia_cuda_runtime_cu12-12.1.105-py3-none-manylinux1_x86_64.whl (823 kB)\n",
            "\u001b[2K     \u001b[90m━━━━━━━━━━━━━━━━━━━━━━━━━━━━━━━━━━━━━━━━\u001b[0m \u001b[32m823.6/823.6 kB\u001b[0m \u001b[31m2.2 MB/s\u001b[0m eta \u001b[36m0:00:00\u001b[0m\n",
            "\u001b[?25hCollecting nvidia-cuda-cupti-cu12==12.1.105 (from torch>=2.0.0->nnunetv2)\n",
            "  Downloading nvidia_cuda_cupti_cu12-12.1.105-py3-none-manylinux1_x86_64.whl (14.1 MB)\n",
            "\u001b[2K     \u001b[90m━━━━━━━━━━━━━━━━━━━━━━━━━━━━━━━━━━━━━━━━\u001b[0m \u001b[32m14.1/14.1 MB\u001b[0m \u001b[31m1.4 MB/s\u001b[0m eta \u001b[36m0:00:00\u001b[0m\n",
            "\u001b[?25hCollecting nvidia-cudnn-cu12==8.9.2.26 (from torch>=2.0.0->nnunetv2)\n",
            "  Downloading nvidia_cudnn_cu12-8.9.2.26-py3-none-manylinux1_x86_64.whl (731.7 MB)\n",
            "\u001b[2K     \u001b[91m━━━━━━━━━━━━━━━━━━━━━━━━━━━━━━━━━━\u001b[0m\u001b[91m╸\u001b[0m\u001b[90m━━━━━\u001b[0m \u001b[32m631.8/731.7 MB\u001b[0m \u001b[31m1.2 MB/s\u001b[0m eta \u001b[36m0:01:24\u001b[0m\n",
            "\u001b[?25h\u001b[31mERROR: Operation cancelled by user\u001b[0m\u001b[31m\n",
            "\u001b[0mTraceback (most recent call last):\n",
            "  File \"/usr/local/lib/python3.10/dist-packages/pip/_internal/cli/base_command.py\", line 169, in exc_logging_wrapper\n",
            "    status = run_func(*args)\n",
            "  File \"/usr/local/lib/python3.10/dist-packages/pip/_internal/cli/req_command.py\", line 242, in wrapper\n",
            "    return func(self, options, args)\n",
            "  File \"/usr/local/lib/python3.10/dist-packages/pip/_internal/commands/install.py\", line 377, in run\n",
            "    requirement_set = resolver.resolve(\n",
            "  File \"/usr/local/lib/python3.10/dist-packages/pip/_internal/resolution/resolvelib/resolver.py\", line 92, in resolve\n",
            "    result = self._result = resolver.resolve(\n",
            "  File \"/usr/local/lib/python3.10/dist-packages/pip/_vendor/resolvelib/resolvers.py\", line 546, in resolve\n",
            "    state = resolution.resolve(requirements, max_rounds=max_rounds)\n",
            "  File \"/usr/local/lib/python3.10/dist-packages/pip/_vendor/resolvelib/resolvers.py\", line 427, in resolve\n",
            "    failure_causes = self._attempt_to_pin_criterion(name)\n",
            "  File \"/usr/local/lib/python3.10/dist-packages/pip/_vendor/resolvelib/resolvers.py\", line 239, in _attempt_to_pin_criterion\n",
            "    criteria = self._get_updated_criteria(candidate)\n",
            "  File \"/usr/local/lib/python3.10/dist-packages/pip/_vendor/resolvelib/resolvers.py\", line 230, in _get_updated_criteria\n",
            "    self._add_to_criteria(criteria, requirement, parent=candidate)\n",
            "  File \"/usr/local/lib/python3.10/dist-packages/pip/_vendor/resolvelib/resolvers.py\", line 173, in _add_to_criteria\n",
            "    if not criterion.candidates:\n",
            "  File \"/usr/local/lib/python3.10/dist-packages/pip/_vendor/resolvelib/structs.py\", line 156, in __bool__\n",
            "    return bool(self._sequence)\n",
            "  File \"/usr/local/lib/python3.10/dist-packages/pip/_internal/resolution/resolvelib/found_candidates.py\", line 155, in __bool__\n",
            "    return any(self)\n",
            "  File \"/usr/local/lib/python3.10/dist-packages/pip/_internal/resolution/resolvelib/found_candidates.py\", line 143, in <genexpr>\n",
            "    return (c for c in iterator if id(c) not in self._incompatible_ids)\n",
            "  File \"/usr/local/lib/python3.10/dist-packages/pip/_internal/resolution/resolvelib/found_candidates.py\", line 47, in _iter_built\n",
            "    candidate = func()\n",
            "  File \"/usr/local/lib/python3.10/dist-packages/pip/_internal/resolution/resolvelib/factory.py\", line 206, in _make_candidate_from_link\n",
            "    self._link_candidate_cache[link] = LinkCandidate(\n",
            "  File \"/usr/local/lib/python3.10/dist-packages/pip/_internal/resolution/resolvelib/candidates.py\", line 293, in __init__\n",
            "    super().__init__(\n",
            "  File \"/usr/local/lib/python3.10/dist-packages/pip/_internal/resolution/resolvelib/candidates.py\", line 156, in __init__\n",
            "    self.dist = self._prepare()\n",
            "  File \"/usr/local/lib/python3.10/dist-packages/pip/_internal/resolution/resolvelib/candidates.py\", line 225, in _prepare\n",
            "    dist = self._prepare_distribution()\n",
            "  File \"/usr/local/lib/python3.10/dist-packages/pip/_internal/resolution/resolvelib/candidates.py\", line 304, in _prepare_distribution\n",
            "    return preparer.prepare_linked_requirement(self._ireq, parallel_builds=True)\n",
            "  File \"/usr/local/lib/python3.10/dist-packages/pip/_internal/operations/prepare.py\", line 516, in prepare_linked_requirement\n",
            "    return self._prepare_linked_requirement(req, parallel_builds)\n",
            "  File \"/usr/local/lib/python3.10/dist-packages/pip/_internal/operations/prepare.py\", line 587, in _prepare_linked_requirement\n",
            "    local_file = unpack_url(\n",
            "  File \"/usr/local/lib/python3.10/dist-packages/pip/_internal/operations/prepare.py\", line 166, in unpack_url\n",
            "    file = get_http_url(\n",
            "  File \"/usr/local/lib/python3.10/dist-packages/pip/_internal/operations/prepare.py\", line 107, in get_http_url\n",
            "    from_path, content_type = download(link, temp_dir.path)\n",
            "  File \"/usr/local/lib/python3.10/dist-packages/pip/_internal/network/download.py\", line 147, in __call__\n",
            "    for chunk in chunks:\n",
            "  File \"/usr/local/lib/python3.10/dist-packages/pip/_internal/cli/progress_bars.py\", line 53, in _rich_progress_bar\n",
            "    for chunk in iterable:\n",
            "  File \"/usr/local/lib/python3.10/dist-packages/pip/_internal/network/utils.py\", line 63, in response_chunks\n",
            "    for chunk in response.raw.stream(\n",
            "  File \"/usr/local/lib/python3.10/dist-packages/pip/_vendor/urllib3/response.py\", line 622, in stream\n",
            "    data = self.read(amt=amt, decode_content=decode_content)\n",
            "  File \"/usr/local/lib/python3.10/dist-packages/pip/_vendor/urllib3/response.py\", line 561, in read\n",
            "    data = self._fp_read(amt) if not fp_closed else b\"\"\n",
            "  File \"/usr/local/lib/python3.10/dist-packages/pip/_vendor/urllib3/response.py\", line 527, in _fp_read\n",
            "    return self._fp.read(amt) if amt is not None else self._fp.read()\n",
            "  File \"/usr/local/lib/python3.10/dist-packages/pip/_vendor/cachecontrol/filewrapper.py\", line 90, in read\n",
            "    data = self.__fp.read(amt)\n",
            "  File \"/usr/lib/python3.10/http/client.py\", line 466, in read\n",
            "    s = self.fp.read(amt)\n",
            "  File \"/usr/lib/python3.10/socket.py\", line 705, in readinto\n",
            "    return self._sock.recv_into(b)\n",
            "  File \"/usr/lib/python3.10/ssl.py\", line 1303, in recv_into\n",
            "    return self.read(nbytes, buffer)\n",
            "  File \"/usr/lib/python3.10/ssl.py\", line 1159, in read\n",
            "    return self._sslobj.read(len, buffer)\n",
            "KeyboardInterrupt\n",
            "\n",
            "During handling of the above exception, another exception occurred:\n",
            "\n",
            "Traceback (most recent call last):\n",
            "  File \"/usr/local/bin/pip3\", line 8, in <module>\n",
            "    sys.exit(main())\n",
            "  File \"/usr/local/lib/python3.10/dist-packages/pip/_internal/cli/main.py\", line 79, in main\n",
            "    return command.main(cmd_args)\n",
            "  File \"/usr/local/lib/python3.10/dist-packages/pip/_internal/cli/base_command.py\", line 101, in main\n",
            "    return self._main(args)\n",
            "  File \"/usr/local/lib/python3.10/dist-packages/pip/_internal/cli/base_command.py\", line 223, in _main\n",
            "    return run(options, args)\n",
            "  File \"/usr/local/lib/python3.10/dist-packages/pip/_internal/cli/base_command.py\", line 206, in exc_logging_wrapper\n",
            "    logger.critical(\"Operation cancelled by user\")\n",
            "  File \"/usr/lib/python3.10/logging/__init__.py\", line 1524, in critical\n",
            "    self._log(CRITICAL, msg, args, **kwargs)\n",
            "  File \"/usr/lib/python3.10/logging/__init__.py\", line 1624, in _log\n",
            "    self.handle(record)\n",
            "  File \"/usr/lib/python3.10/logging/__init__.py\", line 1634, in handle\n",
            "    self.callHandlers(record)\n",
            "  File \"/usr/lib/python3.10/logging/__init__.py\", line 1696, in callHandlers\n",
            "    hdlr.handle(record)\n",
            "  File \"/usr/lib/python3.10/logging/__init__.py\", line 968, in handle\n",
            "    self.emit(record)\n",
            "  File \"/usr/lib/python3.10/logging/handlers.py\", line 75, in emit\n",
            "    logging.FileHandler.emit(self, record)\n",
            "  File \"/usr/lib/python3.10/logging/__init__.py\", line 1204, in emit\n",
            "    def emit(self, record):\n",
            "KeyboardInterrupt\n",
            "^C\n"
          ]
        }
      ]
    },
    {
      "cell_type": "code",
      "source": [
        "# for colab users only - mounting the drive\n",
        "\n",
        "from google.colab import drive\n",
        "drive.mount('/content/drive',force_remount = True)\n",
        "\n",
        "drive_dir = \"/content/drive/My Drive\"\n",
        "mount_dir = os.path.join(drive_dir, \"Colab Notebooks\")\n",
        "base_dir = os.getcwd()"
      ],
      "metadata": {
        "colab": {
          "base_uri": "https://localhost:8080/"
        },
        "id": "ftqLMUmgZu5y",
        "outputId": "84b00a83-876d-4bd4-959a-93f6faa2a5ac"
      },
      "execution_count": 5,
      "outputs": [
        {
          "output_type": "stream",
          "name": "stdout",
          "text": [
            "Mounted at /content/drive\n"
          ]
        }
      ]
    },
    {
      "cell_type": "code",
      "source": [
        "assert os.path.exists(drive_dir) # if this fails, something went wrong with mounting GoogleDrive\n",
        "if os.path.exists(mount_dir) is False:\n",
        "    os.makedirs(mount_dir)"
      ],
      "metadata": {
        "id": "pOHxkI0AaSbB"
      },
      "execution_count": 6,
      "outputs": []
    },
    {
      "cell_type": "code",
      "source": [
        "from google.colab import drive\n",
        "drive.mount('/content/drive')"
      ],
      "metadata": {
        "colab": {
          "base_uri": "https://localhost:8080/"
        },
        "id": "UiPaSmts8_Hl",
        "outputId": "1e89fd3d-4031-489b-c192-8fe2040057fa"
      },
      "execution_count": 7,
      "outputs": [
        {
          "output_type": "stream",
          "name": "stdout",
          "text": [
            "Drive already mounted at /content/drive; to attempt to forcibly remount, call drive.mount(\"/content/drive\", force_remount=True).\n"
          ]
        }
      ]
    },
    {
      "cell_type": "code",
      "source": [
        "!mkdir -p /content/nnUNet_raw_data_base/nnUNet_raw_data\n",
        "!mkdir -p /content/nnUNet_raw_data_base/nnUNet_preprocessed\n",
        "!mkdir -p /content/nnUNet_trained_models\n",
        "%cd /content/nnUNet_raw_data_base/nnUNet_raw_data\n",
        "!gdown https://drive.google.com/uc?id=1Ff7c21UksxyT4JfETjaarmuKEjdqe1-a\n",
        "!tar -xvf Task05_Prostate.tar\n",
        "!rm Task05_Prostate.tar\n",
        "%cd .."
      ],
      "metadata": {
        "colab": {
          "base_uri": "https://localhost:8080/"
        },
        "id": "SpIc3bi7DdX9",
        "outputId": "e2a4b06b-e404-4b33-f755-37198f469422"
      },
      "execution_count": 10,
      "outputs": [
        {
          "output_type": "stream",
          "name": "stdout",
          "text": [
            "/content/nnUNet_raw_data_base/nnUNet_raw_data\n",
            "Downloading...\n",
            "From (original): https://drive.google.com/uc?id=1Ff7c21UksxyT4JfETjaarmuKEjdqe1-a\n",
            "From (redirected): https://drive.google.com/uc?id=1Ff7c21UksxyT4JfETjaarmuKEjdqe1-a&confirm=t&uuid=10185433-f3eb-44dc-a28c-246fddad010e\n",
            "To: /content/nnUNet_raw_data_base/nnUNet_raw_data/Task05_Prostate.tar\n",
            "100% 240M/240M [00:01<00:00, 163MB/s]\n",
            "Task05_Prostate/._dataset.json\n",
            "Task05_Prostate/dataset.json\n",
            "Task05_Prostate/._imagesTr\n",
            "Task05_Prostate/imagesTr/\n",
            "Task05_Prostate/imagesTr/prostate_16.nii.gz\n",
            "Task05_Prostate/imagesTr/._prostate_04.nii.gz\n",
            "Task05_Prostate/imagesTr/prostate_04.nii.gz\n",
            "Task05_Prostate/imagesTr/prostate_32.nii.gz\n",
            "Task05_Prostate/imagesTr/prostate_20.nii.gz\n",
            "Task05_Prostate/imagesTr/prostate_43.nii.gz\n",
            "Task05_Prostate/imagesTr/prostate_18.nii.gz\n",
            "Task05_Prostate/imagesTr/prostate_06.nii.gz\n",
            "Task05_Prostate/imagesTr/prostate_14.nii.gz\n",
            "Task05_Prostate/imagesTr/prostate_41.nii.gz\n",
            "Task05_Prostate/imagesTr/prostate_34.nii.gz\n",
            "Task05_Prostate/imagesTr/prostate_38.nii.gz\n",
            "Task05_Prostate/imagesTr/prostate_10.nii.gz\n",
            "Task05_Prostate/imagesTr/prostate_02.nii.gz\n",
            "Task05_Prostate/imagesTr/prostate_24.nii.gz\n",
            "Task05_Prostate/imagesTr/prostate_47.nii.gz\n",
            "Task05_Prostate/imagesTr/prostate_28.nii.gz\n",
            "Task05_Prostate/imagesTr/prostate_00.nii.gz\n",
            "Task05_Prostate/imagesTr/prostate_42.nii.gz\n",
            "Task05_Prostate/imagesTr/prostate_21.nii.gz\n",
            "Task05_Prostate/imagesTr/prostate_17.nii.gz\n",
            "Task05_Prostate/imagesTr/prostate_40.nii.gz\n",
            "Task05_Prostate/imagesTr/prostate_31.nii.gz\n",
            "Task05_Prostate/imagesTr/prostate_07.nii.gz\n",
            "Task05_Prostate/imagesTr/prostate_35.nii.gz\n",
            "Task05_Prostate/imagesTr/prostate_44.nii.gz\n",
            "Task05_Prostate/imagesTr/prostate_39.nii.gz\n",
            "Task05_Prostate/imagesTr/prostate_01.nii.gz\n",
            "Task05_Prostate/imagesTr/prostate_13.nii.gz\n",
            "Task05_Prostate/imagesTr/prostate_46.nii.gz\n",
            "Task05_Prostate/imagesTr/prostate_25.nii.gz\n",
            "Task05_Prostate/imagesTr/prostate_29.nii.gz\n",
            "Task05_Prostate/imagesTr/prostate_37.nii.gz\n",
            "Task05_Prostate/._imagesTs\n",
            "Task05_Prostate/imagesTs/\n",
            "Task05_Prostate/imagesTs/prostate_08.nii.gz\n",
            "Task05_Prostate/imagesTs/._prostate_22.nii.gz\n",
            "Task05_Prostate/imagesTs/prostate_22.nii.gz\n",
            "Task05_Prostate/imagesTs/prostate_30.nii.gz\n",
            "Task05_Prostate/imagesTs/prostate_45.nii.gz\n",
            "Task05_Prostate/imagesTs/prostate_26.nii.gz\n",
            "Task05_Prostate/imagesTs/prostate_36.nii.gz\n",
            "Task05_Prostate/imagesTs/prostate_12.nii.gz\n",
            "Task05_Prostate/imagesTs/prostate_33.nii.gz\n",
            "Task05_Prostate/imagesTs/._prostate_09.nii.gz\n",
            "Task05_Prostate/imagesTs/prostate_09.nii.gz\n",
            "Task05_Prostate/imagesTs/prostate_05.nii.gz\n",
            "Task05_Prostate/imagesTs/prostate_23.nii.gz\n",
            "Task05_Prostate/imagesTs/prostate_19.nii.gz\n",
            "Task05_Prostate/imagesTs/prostate_15.nii.gz\n",
            "Task05_Prostate/imagesTs/prostate_11.nii.gz\n",
            "Task05_Prostate/imagesTs/prostate_03.nii.gz\n",
            "Task05_Prostate/imagesTs/prostate_27.nii.gz\n",
            "Task05_Prostate/._labelsTr\n",
            "Task05_Prostate/labelsTr/\n",
            "Task05_Prostate/labelsTr/prostate_16.nii.gz\n",
            "Task05_Prostate/labelsTr/prostate_04.nii.gz\n",
            "Task05_Prostate/labelsTr/prostate_32.nii.gz\n",
            "Task05_Prostate/labelsTr/prostate_20.nii.gz\n",
            "Task05_Prostate/labelsTr/prostate_43.nii.gz\n",
            "Task05_Prostate/labelsTr/prostate_18.nii.gz\n",
            "Task05_Prostate/labelsTr/prostate_06.nii.gz\n",
            "Task05_Prostate/labelsTr/prostate_14.nii.gz\n",
            "Task05_Prostate/labelsTr/._prostate_41.nii.gz\n",
            "Task05_Prostate/labelsTr/prostate_41.nii.gz\n",
            "Task05_Prostate/labelsTr/._prostate_34.nii.gz\n",
            "Task05_Prostate/labelsTr/prostate_34.nii.gz\n",
            "Task05_Prostate/labelsTr/prostate_38.nii.gz\n",
            "Task05_Prostate/labelsTr/prostate_10.nii.gz\n",
            "Task05_Prostate/labelsTr/prostate_02.nii.gz\n",
            "Task05_Prostate/labelsTr/prostate_24.nii.gz\n",
            "Task05_Prostate/labelsTr/prostate_47.nii.gz\n",
            "Task05_Prostate/labelsTr/prostate_28.nii.gz\n",
            "Task05_Prostate/labelsTr/prostate_00.nii.gz\n",
            "Task05_Prostate/labelsTr/prostate_42.nii.gz\n",
            "Task05_Prostate/labelsTr/prostate_21.nii.gz\n",
            "Task05_Prostate/labelsTr/prostate_17.nii.gz\n",
            "Task05_Prostate/labelsTr/prostate_40.nii.gz\n",
            "Task05_Prostate/labelsTr/prostate_31.nii.gz\n",
            "Task05_Prostate/labelsTr/prostate_07.nii.gz\n",
            "Task05_Prostate/labelsTr/prostate_35.nii.gz\n",
            "Task05_Prostate/labelsTr/prostate_44.nii.gz\n",
            "Task05_Prostate/labelsTr/prostate_39.nii.gz\n",
            "Task05_Prostate/labelsTr/prostate_01.nii.gz\n",
            "Task05_Prostate/labelsTr/prostate_13.nii.gz\n",
            "Task05_Prostate/labelsTr/prostate_46.nii.gz\n",
            "Task05_Prostate/labelsTr/._prostate_25.nii.gz\n",
            "Task05_Prostate/labelsTr/prostate_25.nii.gz\n",
            "Task05_Prostate/labelsTr/prostate_29.nii.gz\n",
            "Task05_Prostate/labelsTr/prostate_37.nii.gz\n",
            "/content/nnUNet_raw_data_base\n"
          ]
        }
      ]
    },
    {
      "cell_type": "code",
      "source": [
        "def make_if_dont_exist(folder_path,overwrite=False):\n",
        "    \"\"\"\n",
        "    creates a folder if it does not exists\n",
        "    input:\n",
        "    folder_path : relative path of the folder which needs to be created\n",
        "    over_write :(default: False) if True overwrite the existing folder\n",
        "    \"\"\"\n",
        "    if os.path.exists(folder_path):\n",
        "\n",
        "        if not overwrite:\n",
        "            print(f\"{folder_path} exists.\")\n",
        "        else:\n",
        "            print(f\"{folder_path} overwritten\")\n",
        "            shutil.rmtree(folder_path)\n",
        "            os.makedirs(folder_path)\n",
        "\n",
        "    else:\n",
        "      os.makedirs(folder_path)\n",
        "      print(f\"{folder_path} created!\")"
      ],
      "metadata": {
        "id": "tTBnHJCKaU-5"
      },
      "execution_count": 13,
      "outputs": []
    },
    {
      "cell_type": "code",
      "source": [
        "# Maybe move path of preprocessed data directly on content - this may be signifcantely faster!\n",
        "print(\"Current Working Directory {}\".format(os.getcwd()))\n",
        "path_dict = {\n",
        "    \"nnUNet_raw\" : os.path.join(mount_dir, \"nnUNet_raw\"),\n",
        "    \"nnUNet_preprocessed\" : os.path.join(mount_dir, \"nnUNet_preprocessed\"), # 1 experiment: 1 epoch took 112s\n",
        "    \"nnUNet_results\" : os.path.join(mount_dir, \"nnUNet_results\"),\n",
        "    \"RAW_DATA_PATH\" : os.path.join(mount_dir, \"RawData\"), # This is used here only for convenience (not necessary for nnU-Net)!\n",
        "}\n",
        "\n",
        "# Write paths to environment variables\n",
        "for env_var, path in path_dict.items():\n",
        "  os.environ[env_var] = path\n",
        "\n",
        "# Check whether all environment variables are set correct!\n",
        "for env_var, path in path_dict.items():\n",
        "  if os.getenv(env_var) != path:\n",
        "    print(\"Error:\")\n",
        "    print(\"Environment Variable {} is not set correctly!\".format(env_var))\n",
        "    print(\"Should be {}\".format(path))\n",
        "    print(\"Variable is {}\".format(os.getenv(env_var)))\n",
        "  make_if_dont_exist(path, overwrite=False)\n",
        "\n",
        "print(\"If No Error Occured Continue Forward. =)\")"
      ],
      "metadata": {
        "colab": {
          "base_uri": "https://localhost:8080/"
        },
        "id": "L0ixtgbkaaY-",
        "outputId": "c5e773d1-9638-4598-f5a9-052d46511de8"
      },
      "execution_count": 14,
      "outputs": [
        {
          "output_type": "stream",
          "name": "stdout",
          "text": [
            "Current Working Directory /content/nnUNet_raw_data_base\n",
            "/content/drive/My Drive/Colab Notebooks/nnUNet_raw exists.\n",
            "/content/drive/My Drive/Colab Notebooks/nnUNet_preprocessed exists.\n",
            "/content/drive/My Drive/Colab Notebooks/nnUNet_results exists.\n",
            "/content/drive/My Drive/Colab Notebooks/RawData exists.\n",
            "If No Error Occured Continue Forward. =)\n"
          ]
        }
      ]
    },
    {
      "cell_type": "code",
      "source": [
        "print(\"Data should be located in folder: {}\".format(path_dict[\"RAW_DATA_PATH\"]))\n",
        "assert os.path.isfile(os.path.join(path_dict[\"RAW_DATA_PATH\"], \"/content/drive/MyDrive/Colab Notebooks/RawData/Task05_Prostate.tar\")) # check whether the file is correctly downloaded"
      ],
      "metadata": {
        "colab": {
          "base_uri": "https://localhost:8080/"
        },
        "id": "gtPTD6abcLM5",
        "outputId": "bf6e2d43-4b30-4b04-f128-5b7299969c3d"
      },
      "execution_count": 15,
      "outputs": [
        {
          "output_type": "stream",
          "name": "stdout",
          "text": [
            "Data should be located in folder: /content/drive/My Drive/Colab Notebooks/RawData\n"
          ]
        }
      ]
    },
    {
      "cell_type": "code",
      "source": [
        "!pip install virtualenv\n",
        "!virtualenv myenv\n",
        "!source myenv/bin/activate; pip install package_name"
      ],
      "metadata": {
        "colab": {
          "base_uri": "https://localhost:8080/"
        },
        "id": "OOnjQXcgKlWU",
        "outputId": "5cfb6aa2-50bc-40ec-db41-1b755d547730"
      },
      "execution_count": 33,
      "outputs": [
        {
          "output_type": "stream",
          "name": "stdout",
          "text": [
            "Collecting virtualenv\n",
            "  Downloading virtualenv-20.25.1-py3-none-any.whl (3.8 MB)\n",
            "\u001b[2K     \u001b[90m━━━━━━━━━━━━━━━━━━━━━━━━━━━━━━━━━━━━━━━━\u001b[0m \u001b[32m3.8/3.8 MB\u001b[0m \u001b[31m4.2 MB/s\u001b[0m eta \u001b[36m0:00:00\u001b[0m\n",
            "\u001b[?25hCollecting distlib<1,>=0.3.7 (from virtualenv)\n",
            "  Downloading distlib-0.3.8-py2.py3-none-any.whl (468 kB)\n",
            "\u001b[2K     \u001b[90m━━━━━━━━━━━━━━━━━━━━━━━━━━━━━━━━━━━━━━━━\u001b[0m \u001b[32m468.9/468.9 kB\u001b[0m \u001b[31m3.8 MB/s\u001b[0m eta \u001b[36m0:00:00\u001b[0m\n",
            "\u001b[?25hRequirement already satisfied: filelock<4,>=3.12.2 in /usr/local/lib/python3.10/dist-packages (from virtualenv) (3.13.3)\n",
            "Requirement already satisfied: platformdirs<5,>=3.9.1 in /usr/local/lib/python3.10/dist-packages (from virtualenv) (4.2.0)\n",
            "Installing collected packages: distlib, virtualenv\n",
            "Successfully installed distlib-0.3.8 virtualenv-20.25.1\n",
            "created virtual environment CPython3.10.12.final.0-64 in 1045ms\n",
            "  creator CPython3Posix(dest=/content/nnUNet_raw_data_base/myenv, clear=False, no_vcs_ignore=False, global=False)\n",
            "  seeder FromAppData(download=False, pip=bundle, setuptools=bundle, wheel=bundle, via=copy, app_data_dir=/root/.local/share/virtualenv)\n",
            "    added seed packages: pip==24.0, setuptools==69.1.0, wheel==0.42.0\n",
            "  activators BashActivator,CShellActivator,FishActivator,NushellActivator,PowerShellActivator,PythonActivator\n",
            "Collecting package_name\n",
            "  Downloading package_name-0.1.tar.gz (782 bytes)\n",
            "  Preparing metadata (setup.py) ... \u001b[?25l\u001b[?25hdone\n",
            "Building wheels for collected packages: package_name\n",
            "  Building wheel for package_name (setup.py) ... \u001b[?25l\u001b[?25hdone\n",
            "  Created wheel for package_name: filename=package_name-0.1-py3-none-any.whl size=1229 sha256=c73f9291c7e5b96171daf06bbcc2b231fc35b17cb2b8c1d932b2238c71a5b24f\n",
            "  Stored in directory: /root/.cache/pip/wheels/a3/36/c4/98d928f30290fb88555f848f73093f02b67c984a45c56c3e97\n",
            "Successfully built package_name\n",
            "Installing collected packages: package_name\n",
            "Successfully installed package_name-0.1\n"
          ]
        }
      ]
    },
    {
      "cell_type": "code",
      "source": [
        "!source activate nnUNet && nnUNetv2_convert_MSD_dataset -i \"/content/drive/MyDrive/Colab Notebooks/nnUNet_raw/Dataset005_Prostate/content/drive/MyDrive/Colab Notebooks/RawData\""
      ],
      "metadata": {
        "colab": {
          "base_uri": "https://localhost:8080/"
        },
        "id": "Kq7UFUeDJCPH",
        "outputId": "71316286-ed1b-4449-8497-b14deabc4445"
      },
      "execution_count": 34,
      "outputs": [
        {
          "output_type": "stream",
          "name": "stdout",
          "text": [
            "/bin/bash: line 1: activate: No such file or directory\n"
          ]
        }
      ]
    },
    {
      "cell_type": "code",
      "source": [
        "!nnUNetv2_convert_MSD_dataset -i \"/content/drive/MyDrive/Colab Notebooks/RawData/Task05_Prostate/dataset.json\"\n",
        "!source activate nnUNet && nnUNetv2_convert_MSD_dataset -i \"${RAW_DATA_PATH}/Task05_Prostate\""
      ],
      "metadata": {
        "id": "5tHani_QdUo1",
        "colab": {
          "base_uri": "https://localhost:8080/"
        },
        "outputId": "2bbbbd1b-3654-40f0-a7cf-9fff12eaf614"
      },
      "execution_count": 35,
      "outputs": [
        {
          "output_type": "stream",
          "name": "stdout",
          "text": [
            "/bin/bash: line 1: nnUNetv2_convert_MSD_dataset: command not found\n",
            "/bin/bash: line 1: activate: No such file or directory\n"
          ]
        }
      ]
    },
    {
      "cell_type": "code",
      "source": [
        "# Prepare the Execution of nnU-Net for Dataset 5\n",
        "!nnUNetv2_plan_and_preprocess -d 5"
      ],
      "metadata": {
        "colab": {
          "base_uri": "https://localhost:8080/"
        },
        "id": "Pq6_ohXPd2Kq",
        "outputId": "6f3577b7-ee39-4f47-eaee-4426df58f63c"
      },
      "execution_count": null,
      "outputs": [
        {
          "output_type": "stream",
          "name": "stdout",
          "text": [
            "Fingerprint extraction...\n",
            "Dataset005_Prostate\n",
            "Using <class 'nnunetv2.imageio.simpleitk_reader_writer.SimpleITKIO'> as reader/writer\n",
            "100% 20/20 [00:34<00:00,  1.73s/it]\n",
            "Experiment planning...\n",
            "Dropping 3d_lowres config because the image size difference to 3d_fullres is too small. 3d_fullres: [ 20. 320. 319.], 3d_lowres: [20, 320, 319]\n",
            "2D U-Net configuration:\n",
            "{'data_identifier': 'nnUNetPlans_2d', 'preprocessor_name': 'DefaultPreprocessor', 'batch_size': 32, 'patch_size': (320, 320), 'median_image_size_in_voxels': array([320., 319.]), 'spacing': array([0.625, 0.625]), 'normalization_schemes': ['ZScoreNormalization', 'ZScoreNormalization'], 'use_mask_for_norm': [False, False], 'resampling_fn_data': 'resample_data_or_seg_to_shape', 'resampling_fn_seg': 'resample_data_or_seg_to_shape', 'resampling_fn_data_kwargs': {'is_seg': False, 'order': 3, 'order_z': 0, 'force_separate_z': None}, 'resampling_fn_seg_kwargs': {'is_seg': True, 'order': 1, 'order_z': 0, 'force_separate_z': None}, 'resampling_fn_probabilities': 'resample_data_or_seg_to_shape', 'resampling_fn_probabilities_kwargs': {'is_seg': False, 'order': 1, 'order_z': 0, 'force_separate_z': None}, 'architecture': {'network_class_name': 'dynamic_network_architectures.architectures.unet.PlainConvUNet', 'arch_kwargs': {'n_stages': 7, 'features_per_stage': (32, 64, 128, 256, 512, 512, 512), 'conv_op': 'torch.nn.modules.conv.Conv2d', 'kernel_sizes': ((3, 3), (3, 3), (3, 3), (3, 3), (3, 3), (3, 3), (3, 3)), 'strides': ((1, 1), (2, 2), (2, 2), (2, 2), (2, 2), (2, 2), (2, 2)), 'n_conv_per_stage': (2, 2, 2, 2, 2, 2, 2), 'n_conv_per_stage_decoder': (2, 2, 2, 2, 2, 2), 'conv_bias': True, 'norm_op': 'torch.nn.modules.instancenorm.InstanceNorm2d', 'norm_op_kwargs': {'eps': 1e-05, 'affine': True}, 'dropout_op': None, 'dropout_op_kwargs': None, 'nonlin': 'torch.nn.LeakyReLU', 'nonlin_kwargs': {'inplace': True}}, '_kw_requires_import': ('conv_op', 'norm_op', 'dropout_op', 'nonlin')}, 'batch_dice': True}\n",
            "\n",
            "Using <class 'nnunetv2.imageio.simpleitk_reader_writer.SimpleITKIO'> as reader/writer\n",
            "3D fullres U-Net configuration:\n",
            "{'data_identifier': 'nnUNetPlans_3d_fullres', 'preprocessor_name': 'DefaultPreprocessor', 'batch_size': 2, 'patch_size': (20, 320, 256), 'median_image_size_in_voxels': array([ 20., 320., 319.]), 'spacing': array([3.59999979, 0.625     , 0.625     ]), 'normalization_schemes': ['ZScoreNormalization', 'ZScoreNormalization'], 'use_mask_for_norm': [False, False], 'resampling_fn_data': 'resample_data_or_seg_to_shape', 'resampling_fn_seg': 'resample_data_or_seg_to_shape', 'resampling_fn_data_kwargs': {'is_seg': False, 'order': 3, 'order_z': 0, 'force_separate_z': None}, 'resampling_fn_seg_kwargs': {'is_seg': True, 'order': 1, 'order_z': 0, 'force_separate_z': None}, 'resampling_fn_probabilities': 'resample_data_or_seg_to_shape', 'resampling_fn_probabilities_kwargs': {'is_seg': False, 'order': 1, 'order_z': 0, 'force_separate_z': None}, 'architecture': {'network_class_name': 'dynamic_network_architectures.architectures.unet.PlainConvUNet', 'arch_kwargs': {'n_stages': 7, 'features_per_stage': (32, 64, 128, 256, 320, 320, 320), 'conv_op': 'torch.nn.modules.conv.Conv3d', 'kernel_sizes': ((1, 3, 3), (1, 3, 3), (3, 3, 3), (3, 3, 3), (3, 3, 3), (3, 3, 3), (3, 3, 3)), 'strides': ((1, 1, 1), (1, 2, 2), (1, 2, 2), (2, 2, 2), (2, 2, 2), (1, 2, 2), (1, 2, 2)), 'n_conv_per_stage': (2, 2, 2, 2, 2, 2, 2), 'n_conv_per_stage_decoder': (2, 2, 2, 2, 2, 2), 'conv_bias': True, 'norm_op': 'torch.nn.modules.instancenorm.InstanceNorm3d', 'norm_op_kwargs': {'eps': 1e-05, 'affine': True}, 'dropout_op': None, 'dropout_op_kwargs': None, 'nonlin': 'torch.nn.LeakyReLU', 'nonlin_kwargs': {'inplace': True}}, '_kw_requires_import': ('conv_op', 'norm_op', 'dropout_op', 'nonlin')}, 'batch_dice': False}\n",
            "\n",
            "Plans were saved to /content/drive/My Drive/Colab Notebooks/nnUNet_preprocessed/Dataset005_Prostate/nnUNetPlans.json\n",
            "Preprocessing...\n",
            "Preprocessing dataset Dataset005_Prostate\n",
            "Configuration: 2d...\n",
            "100% 20/20 [00:39<00:00,  1.96s/it]\n",
            "Configuration: 3d_fullres...\n",
            "100% 20/20 [00:31<00:00,  1.60s/it]\n",
            "Configuration: 3d_lowres...\n",
            "INFO: Configuration 3d_lowres not found in plans file nnUNetPlans.json of dataset Dataset005_Prostate. Skipping.\n"
          ]
        }
      ]
    },
    {
      "cell_type": "code",
      "source": [
        "# Download the Pretrained Model for the Prostate Dataset (Decathlon Dataset)\n",
        "os.chdir(path_dict[\"nnUNet_results\"])\n",
        "!gdown 'https://drive.google.com/uc?export=download&id=1gCdlj-O3hgoMDDw2NM8QxvFIGGVbT9Qy'\n",
        "!nnUNetv2_install_pretrained_model_from_zip nnUNetv2_3dfullres_Model_Dataset005_Prostate.zip\n",
        "!rm 'nnUNetv2_3dfullres_Model_Dataset005_Prostate.zip'\n",
        "os.chdir(base_dir)\n",
        "\n",
        "# takes roughly 9 minutes"
      ],
      "metadata": {
        "colab": {
          "base_uri": "https://localhost:8080/"
        },
        "id": "Ih2vJcK5ehWI",
        "outputId": "8c48218b-e56a-4576-91b4-ada8e9ee0529"
      },
      "execution_count": null,
      "outputs": [
        {
          "output_type": "stream",
          "name": "stdout",
          "text": [
            "Downloading...\n",
            "From (original): https://drive.google.com/uc?export=download&id=1gCdlj-O3hgoMDDw2NM8QxvFIGGVbT9Qy\n",
            "From (redirected): https://drive.google.com/uc?export=download&id=1gCdlj-O3hgoMDDw2NM8QxvFIGGVbT9Qy&confirm=t&uuid=e307ec54-c343-43a9-b45e-30be1ae523e2\n",
            "To: /content/drive/My Drive/Colab Notebooks/nnUNet_results/nnUNetv2_3dfullres_Model_Dataset005_Prostate.zip\n",
            "100% 1.66G/1.66G [00:37<00:00, 44.1MB/s]\n"
          ]
        }
      ]
    },
    {
      "cell_type": "code",
      "source": [
        "# use fully trained nnU-Net to make predictions on data\n",
        "!nnUNetv2_predict -i \"${nnUNet_raw}/Dataset005_Prostate/imagesTs/\" -o \"${nnUNet_results}/Dataset005_Prostate/predTs/\" -d 5 -c 3d_fullres"
      ],
      "metadata": {
        "colab": {
          "base_uri": "https://localhost:8080/"
        },
        "id": "KkGDOwxWequD",
        "outputId": "3cb7934f-c211-4cac-b641-3774307d0487"
      },
      "execution_count": null,
      "outputs": [
        {
          "output_type": "stream",
          "name": "stdout",
          "text": [
            "\n",
            "#######################################################################\n",
            "Please cite the following paper when using nnU-Net:\n",
            "Isensee, F., Jaeger, P. F., Kohl, S. A., Petersen, J., & Maier-Hein, K. H. (2021). nnU-Net: a self-configuring method for deep learning-based biomedical image segmentation. Nature methods, 18(2), 203-211.\n",
            "#######################################################################\n",
            "\n",
            "/usr/local/lib/python3.10/dist-packages/nnunetv2/utilities/plans_handling/plans_handler.py:37: UserWarning: Detected old nnU-Net plans format. Attempting to reconstruct network architecture parameters. If this fails, rerun nnUNetv2_plan_experiment for your dataset. If you use a custom architecture, please downgrade nnU-Net to the version you implemented this or update your implementation + plans.\n",
            "  warnings.warn(\"Detected old nnU-Net plans format. Attempting to reconstruct network architecture \"\n",
            "There are 16 cases in the source folder\n",
            "I am process 0 out of 1 (max process ID is 0, we start counting with 0!)\n",
            "There are 16 cases that I would like to predict\n",
            "\n",
            "Predicting prostate_03:\n",
            "perform_everything_on_device: True\n",
            "100% 2/2 [00:02<00:00,  1.28s/it]\n",
            "100% 2/2 [00:01<00:00,  1.67it/s]\n",
            "100% 2/2 [00:01<00:00,  1.67it/s]\n",
            "100% 2/2 [00:01<00:00,  1.67it/s]\n",
            "100% 2/2 [00:01<00:00,  1.67it/s]\n",
            "sending off prediction to background worker for resampling and export\n",
            "done with prostate_03\n",
            "\n",
            "Predicting prostate_05:\n",
            "perform_everything_on_device: True\n",
            "100% 2/2 [00:01<00:00,  1.66it/s]\n",
            "100% 2/2 [00:01<00:00,  1.67it/s]\n",
            "100% 2/2 [00:01<00:00,  1.66it/s]\n",
            "100% 2/2 [00:01<00:00,  1.65it/s]\n",
            "100% 2/2 [00:01<00:00,  1.65it/s]\n",
            "sending off prediction to background worker for resampling and export\n",
            "done with prostate_05\n",
            "\n",
            "Predicting prostate_08:\n",
            "perform_everything_on_device: True\n",
            "100% 2/2 [00:01<00:00,  1.65it/s]\n",
            "100% 2/2 [00:01<00:00,  1.65it/s]\n",
            "100% 2/2 [00:01<00:00,  1.64it/s]\n",
            "100% 2/2 [00:01<00:00,  1.63it/s]\n",
            "100% 2/2 [00:01<00:00,  1.63it/s]\n",
            "sending off prediction to background worker for resampling and export\n",
            "done with prostate_08\n",
            "\n",
            "Predicting prostate_09:\n",
            "perform_everything_on_device: True\n",
            "100% 2/2 [00:01<00:00,  1.60it/s]\n",
            "100% 2/2 [00:01<00:00,  1.36it/s]\n",
            "100% 2/2 [00:01<00:00,  1.61it/s]\n",
            "100% 2/2 [00:01<00:00,  1.61it/s]\n",
            "100% 2/2 [00:01<00:00,  1.61it/s]\n",
            "sending off prediction to background worker for resampling and export\n",
            "done with prostate_09\n",
            "\n",
            "Predicting prostate_11:\n",
            "perform_everything_on_device: True\n",
            "100% 2/2 [00:01<00:00,  1.60it/s]\n",
            "100% 2/2 [00:01<00:00,  1.60it/s]\n",
            "100% 2/2 [00:01<00:00,  1.59it/s]\n",
            "100% 2/2 [00:01<00:00,  1.58it/s]\n",
            "100% 2/2 [00:01<00:00,  1.58it/s]\n",
            "sending off prediction to background worker for resampling and export\n",
            "done with prostate_11\n",
            "\n",
            "Predicting prostate_12:\n",
            "perform_everything_on_device: True\n",
            "100% 2/2 [00:01<00:00,  1.60it/s]\n",
            "100% 2/2 [00:01<00:00,  1.59it/s]\n",
            "100% 2/2 [00:01<00:00,  1.57it/s]\n",
            "100% 2/2 [00:01<00:00,  1.58it/s]\n",
            "100% 2/2 [00:01<00:00,  1.56it/s]\n",
            "sending off prediction to background worker for resampling and export\n",
            "done with prostate_12\n",
            "\n",
            "Predicting prostate_15:\n",
            "perform_everything_on_device: True\n",
            "100% 2/2 [00:01<00:00,  1.57it/s]\n",
            "100% 2/2 [00:01<00:00,  1.57it/s]\n",
            "100% 2/2 [00:01<00:00,  1.56it/s]\n",
            "100% 2/2 [00:01<00:00,  1.54it/s]\n",
            "100% 2/2 [00:01<00:00,  1.54it/s]\n",
            "sending off prediction to background worker for resampling and export\n",
            "done with prostate_15\n",
            "\n",
            "Predicting prostate_19:\n",
            "perform_everything_on_device: True\n",
            "100% 2/2 [00:01<00:00,  1.55it/s]\n",
            "100% 2/2 [00:01<00:00,  1.54it/s]\n",
            "100% 2/2 [00:01<00:00,  1.52it/s]\n",
            "100% 2/2 [00:01<00:00,  1.52it/s]\n",
            "100% 2/2 [00:01<00:00,  1.51it/s]\n",
            "sending off prediction to background worker for resampling and export\n",
            "done with prostate_19\n",
            "\n",
            "Predicting prostate_22:\n",
            "perform_everything_on_device: True\n",
            "100% 2/2 [00:01<00:00,  1.53it/s]\n",
            "100% 2/2 [00:01<00:00,  1.52it/s]\n",
            "100% 2/2 [00:01<00:00,  1.51it/s]\n",
            "100% 2/2 [00:01<00:00,  1.50it/s]\n",
            "100% 2/2 [00:01<00:00,  1.49it/s]\n",
            "sending off prediction to background worker for resampling and export\n",
            "done with prostate_22\n",
            "\n",
            "Predicting prostate_23:\n",
            "perform_everything_on_device: True\n",
            "100% 2/2 [00:01<00:00,  1.48it/s]\n",
            "100% 2/2 [00:01<00:00,  1.47it/s]\n",
            "100% 2/2 [00:01<00:00,  1.47it/s]\n",
            "100% 2/2 [00:01<00:00,  1.47it/s]\n",
            "100% 2/2 [00:01<00:00,  1.45it/s]\n",
            "sending off prediction to background worker for resampling and export\n",
            "done with prostate_23\n",
            "\n",
            "Predicting prostate_26:\n",
            "perform_everything_on_device: True\n",
            "100% 2/2 [00:01<00:00,  1.44it/s]\n",
            "100% 2/2 [00:01<00:00,  1.43it/s]\n",
            "100% 2/2 [00:01<00:00,  1.41it/s]\n",
            "100% 2/2 [00:01<00:00,  1.41it/s]\n",
            "100% 2/2 [00:01<00:00,  1.41it/s]\n",
            "sending off prediction to background worker for resampling and export\n",
            "done with prostate_26\n",
            "\n",
            "Predicting prostate_27:\n",
            "perform_everything_on_device: True\n",
            "100% 2/2 [00:01<00:00,  1.42it/s]\n",
            "100% 2/2 [00:01<00:00,  1.41it/s]\n",
            "100% 2/2 [00:01<00:00,  1.42it/s]\n",
            "100% 2/2 [00:01<00:00,  1.43it/s]\n",
            "100% 2/2 [00:01<00:00,  1.44it/s]\n",
            "sending off prediction to background worker for resampling and export\n",
            "done with prostate_27\n",
            "\n",
            "Predicting prostate_30:\n",
            "perform_everything_on_device: True\n",
            "100% 2/2 [00:01<00:00,  1.45it/s]\n",
            "100% 2/2 [00:01<00:00,  1.45it/s]\n",
            "100% 2/2 [00:01<00:00,  1.46it/s]\n",
            "100% 2/2 [00:01<00:00,  1.46it/s]\n",
            "100% 2/2 [00:01<00:00,  1.47it/s]\n",
            "sending off prediction to background worker for resampling and export\n",
            "done with prostate_30\n",
            "\n",
            "Predicting prostate_33:\n",
            "perform_everything_on_device: True\n",
            "100% 2/2 [00:01<00:00,  1.47it/s]\n",
            "100% 2/2 [00:01<00:00,  1.48it/s]\n",
            "100% 2/2 [00:01<00:00,  1.48it/s]\n",
            "100% 2/2 [00:01<00:00,  1.49it/s]\n",
            "100% 2/2 [00:01<00:00,  1.48it/s]\n",
            "sending off prediction to background worker for resampling and export\n",
            "done with prostate_33\n",
            "\n",
            "Predicting prostate_36:\n",
            "perform_everything_on_device: True\n",
            "100% 2/2 [00:01<00:00,  1.50it/s]\n",
            "100% 2/2 [00:01<00:00,  1.50it/s]\n",
            "100% 2/2 [00:01<00:00,  1.50it/s]\n",
            "100% 2/2 [00:01<00:00,  1.50it/s]\n",
            "100% 2/2 [00:01<00:00,  1.49it/s]\n",
            "sending off prediction to background worker for resampling and export\n",
            "done with prostate_36\n",
            "\n",
            "Predicting prostate_45:\n",
            "perform_everything_on_device: True\n",
            "100% 2/2 [00:01<00:00,  1.51it/s]\n",
            "100% 2/2 [00:01<00:00,  1.50it/s]\n",
            "100% 2/2 [00:01<00:00,  1.51it/s]\n",
            "100% 2/2 [00:01<00:00,  1.50it/s]\n",
            "100% 2/2 [00:01<00:00,  1.50it/s]\n",
            "sending off prediction to background worker for resampling and export\n",
            "done with prostate_45\n"
          ]
        }
      ]
    },
    {
      "cell_type": "code",
      "source": [
        "# Create Folderstructure for the new dataset!\n",
        "dataset_name = 'Dataset501_SCGM' #change here for different dataset name\n",
        "nnunet_raw_data = os.path.join(os.getenv(\"nnUNet_raw\"))\n",
        "task_folder_name = os.path.join(nnunet_raw_data,dataset_name)\n",
        "train_image_dir = os.path.join(task_folder_name,'imagesTr')\n",
        "train_label_dir = os.path.join(task_folder_name,'labelsTr')\n",
        "test_dir = os.path.join(task_folder_name,'imagesTs')\n",
        "\n",
        "# Create Folder Structure for the SCGM dataset on the system\n",
        "make_if_dont_exist(task_folder_name)\n",
        "make_if_dont_exist(train_image_dir)\n",
        "make_if_dont_exist(train_label_dir)\n",
        "make_if_dont_exist(test_dir)\n",
        "\n",
        "training_data_name=\"training-data-gm-sc-challenge-ismrm16-v20160302b\"\n",
        "test_data_name=\"test-data-gm-sc-challenge-ismrm16-v20160401\""
      ],
      "metadata": {
        "colab": {
          "base_uri": "https://localhost:8080/"
        },
        "id": "nYkbmH_de0RS",
        "outputId": "4dab2c21-4045-4a84-e0bd-c706335f2a7f"
      },
      "execution_count": null,
      "outputs": [
        {
          "output_type": "stream",
          "name": "stdout",
          "text": [
            "/content/drive/My Drive/Colab Notebooks/nnUNet_raw/Dataset501_SCGM created!\n",
            "/content/drive/My Drive/Colab Notebooks/nnUNet_raw/Dataset501_SCGM/imagesTr created!\n",
            "/content/drive/My Drive/Colab Notebooks/nnUNet_raw/Dataset501_SCGM/labelsTr created!\n",
            "/content/drive/My Drive/Colab Notebooks/nnUNet_raw/Dataset501_SCGM/imagesTs created!\n"
          ]
        }
      ]
    },
    {
      "cell_type": "code",
      "source": [
        "# only for in poerson workshops\n",
        "\n",
        "os.chdir(task_folder_name)\n",
        "# download training data\n",
        "!gdown 'https://drive.google.com/uc?export=download&id=1gCdlj-O3hgoMDDw2NM8QxvFIGGVbT9Qy'\n",
        "!ls\n",
        "os.chdir(base_dir)"
      ],
      "metadata": {
        "colab": {
          "base_uri": "https://localhost:8080/"
        },
        "id": "cSZCsr4Ze1Td",
        "outputId": "12a3b6bd-27d2-4e39-8b36-b92a935cda4e"
      },
      "execution_count": null,
      "outputs": [
        {
          "output_type": "stream",
          "name": "stdout",
          "text": [
            "Downloading...\n",
            "From (original): https://drive.google.com/uc?export=download&id=1gCdlj-O3hgoMDDw2NM8QxvFIGGVbT9Qy\n",
            "From (redirected): https://drive.google.com/uc?export=download&id=1gCdlj-O3hgoMDDw2NM8QxvFIGGVbT9Qy&confirm=t&uuid=cadf1339-23bd-4b2b-8258-dbc98f9778d6\n",
            "To: /content/drive/My Drive/Colab Notebooks/nnUNet_raw/Dataset501_SCGM/nnUNetv2_3dfullres_Model_Dataset005_Prostate.zip\n",
            "100% 1.66G/1.66G [00:24<00:00, 68.3MB/s]\n",
            "imagesTr  imagesTs  labelsTr  nnUNetv2_3dfullres_Model_Dataset005_Prostate.zip\n"
          ]
        }
      ]
    },
    {
      "cell_type": "code",
      "source": [
        "# continue from here again.\n",
        "task_folder_name = \"/content/drive/MyDrive/Colab Notebooks/nnUNet_raw/Dataset501_SCGM/nnUNetv2_3dfullres_Model_Dataset005_Prostate.zip\"\n",
        "\n",
        "if os.path.isfile(task_folder_name):\n",
        "    print(\"Training file for SCGM Challenge exists\")\n",
        "else:\n",
        "    print(\"Please download the dataset zip file and place it at the following location: \\n{}\".format(task_folder_name))"
      ],
      "metadata": {
        "colab": {
          "base_uri": "https://localhost:8080/"
        },
        "id": "y_IiSj5igiTd",
        "outputId": "a392e135-b405-4dff-cce2-b03f76d9c53b"
      },
      "execution_count": null,
      "outputs": [
        {
          "output_type": "stream",
          "name": "stdout",
          "text": [
            "Training file for SCGM Challenge exists\n"
          ]
        }
      ]
    },
    {
      "cell_type": "code",
      "source": [
        "#unzipping in nnUNet_raw folder the training data\n",
        "# Specify the path to the zip file\n",
        "zip_file_path = \"/content/drive/MyDrive/Colab Notebooks/nnUNet_raw/Dataset501_SCGM/nnUNetv2_3dfullres_Model_Dataset005_Prostate.zip\"\n",
        "\n",
        "# Specify the directory where you want to extract the contents of the zip file\n",
        "extracted_folder_path = \"/content/drive/MyDrive/Colab Notebooks/nnUNet_raw/Dataset501_SCGM/\"\n",
        "\n",
        "# Execute the unzip command\n",
        "!unzip \"{zip_file_path}\" -d \"{extracted_folder_path}\""
      ],
      "metadata": {
        "colab": {
          "base_uri": "https://localhost:8080/"
        },
        "id": "O2kYgFR7hyn5",
        "outputId": "555ae03c-1bcf-4cdb-bf71-ab998eacb04c"
      },
      "execution_count": null,
      "outputs": [
        {
          "output_type": "stream",
          "name": "stdout",
          "text": [
            "Archive:  /content/drive/MyDrive/Colab Notebooks/nnUNet_raw/Dataset501_SCGM/nnUNetv2_3dfullres_Model_Dataset005_Prostate.zip\n",
            "  inflating: /content/drive/MyDrive/Colab Notebooks/nnUNet_raw/Dataset501_SCGM/Dataset005_Prostate/nnUNetTrainer__nnUNetPlans__3d_fullres/fold_0/debug.json  \n",
            "  inflating: /content/drive/MyDrive/Colab Notebooks/nnUNet_raw/Dataset501_SCGM/Dataset005_Prostate/nnUNetTrainer__nnUNetPlans__3d_fullres/fold_0/checkpoint_final.pth  \n",
            "  inflating: /content/drive/MyDrive/Colab Notebooks/nnUNet_raw/Dataset501_SCGM/Dataset005_Prostate/nnUNetTrainer__nnUNetPlans__3d_fullres/fold_0/progress.png  \n",
            "  inflating: /content/drive/MyDrive/Colab Notebooks/nnUNet_raw/Dataset501_SCGM/Dataset005_Prostate/nnUNetTrainer__nnUNetPlans__3d_fullres/fold_0/validation/summary.json  \n",
            "  inflating: /content/drive/MyDrive/Colab Notebooks/nnUNet_raw/Dataset501_SCGM/Dataset005_Prostate/nnUNetTrainer__nnUNetPlans__3d_fullres/fold_1/debug.json  \n",
            "  inflating: /content/drive/MyDrive/Colab Notebooks/nnUNet_raw/Dataset501_SCGM/Dataset005_Prostate/nnUNetTrainer__nnUNetPlans__3d_fullres/fold_1/checkpoint_final.pth  \n",
            "  inflating: /content/drive/MyDrive/Colab Notebooks/nnUNet_raw/Dataset501_SCGM/Dataset005_Prostate/nnUNetTrainer__nnUNetPlans__3d_fullres/fold_1/progress.png  \n",
            "  inflating: /content/drive/MyDrive/Colab Notebooks/nnUNet_raw/Dataset501_SCGM/Dataset005_Prostate/nnUNetTrainer__nnUNetPlans__3d_fullres/fold_1/validation/summary.json  \n",
            "  inflating: /content/drive/MyDrive/Colab Notebooks/nnUNet_raw/Dataset501_SCGM/Dataset005_Prostate/nnUNetTrainer__nnUNetPlans__3d_fullres/fold_2/debug.json  \n",
            "  inflating: /content/drive/MyDrive/Colab Notebooks/nnUNet_raw/Dataset501_SCGM/Dataset005_Prostate/nnUNetTrainer__nnUNetPlans__3d_fullres/fold_2/checkpoint_final.pth  \n",
            "  inflating: /content/drive/MyDrive/Colab Notebooks/nnUNet_raw/Dataset501_SCGM/Dataset005_Prostate/nnUNetTrainer__nnUNetPlans__3d_fullres/fold_2/progress.png  \n",
            "  inflating: /content/drive/MyDrive/Colab Notebooks/nnUNet_raw/Dataset501_SCGM/Dataset005_Prostate/nnUNetTrainer__nnUNetPlans__3d_fullres/fold_2/validation/summary.json  \n",
            "  inflating: /content/drive/MyDrive/Colab Notebooks/nnUNet_raw/Dataset501_SCGM/Dataset005_Prostate/nnUNetTrainer__nnUNetPlans__3d_fullres/fold_3/debug.json  \n",
            "  inflating: /content/drive/MyDrive/Colab Notebooks/nnUNet_raw/Dataset501_SCGM/Dataset005_Prostate/nnUNetTrainer__nnUNetPlans__3d_fullres/fold_3/checkpoint_final.pth  \n",
            "  inflating: /content/drive/MyDrive/Colab Notebooks/nnUNet_raw/Dataset501_SCGM/Dataset005_Prostate/nnUNetTrainer__nnUNetPlans__3d_fullres/fold_3/progress.png  \n",
            "  inflating: /content/drive/MyDrive/Colab Notebooks/nnUNet_raw/Dataset501_SCGM/Dataset005_Prostate/nnUNetTrainer__nnUNetPlans__3d_fullres/fold_3/validation/summary.json  \n",
            "  inflating: /content/drive/MyDrive/Colab Notebooks/nnUNet_raw/Dataset501_SCGM/Dataset005_Prostate/nnUNetTrainer__nnUNetPlans__3d_fullres/fold_4/debug.json  \n",
            "  inflating: /content/drive/MyDrive/Colab Notebooks/nnUNet_raw/Dataset501_SCGM/Dataset005_Prostate/nnUNetTrainer__nnUNetPlans__3d_fullres/fold_4/checkpoint_final.pth  \n",
            "  inflating: /content/drive/MyDrive/Colab Notebooks/nnUNet_raw/Dataset501_SCGM/Dataset005_Prostate/nnUNetTrainer__nnUNetPlans__3d_fullres/fold_4/progress.png  \n",
            "  inflating: /content/drive/MyDrive/Colab Notebooks/nnUNet_raw/Dataset501_SCGM/Dataset005_Prostate/nnUNetTrainer__nnUNetPlans__3d_fullres/fold_4/validation/summary.json  \n",
            "  inflating: /content/drive/MyDrive/Colab Notebooks/nnUNet_raw/Dataset501_SCGM/Dataset005_Prostate/nnUNetTrainer__nnUNetPlans__3d_fullres/plans.json  \n",
            "  inflating: /content/drive/MyDrive/Colab Notebooks/nnUNet_raw/Dataset501_SCGM/Dataset005_Prostate/nnUNetTrainer__nnUNetPlans__3d_fullres/dataset_fingerprint.json  \n",
            "  inflating: /content/drive/MyDrive/Colab Notebooks/nnUNet_raw/Dataset501_SCGM/Dataset005_Prostate/nnUNetTrainer__nnUNetPlans__3d_fullres/dataset.json  \n"
          ]
        }
      ]
    },
    {
      "cell_type": "code",
      "source": [
        "# function for copying, savind and renaming\n",
        "def copy_and_rename(old_location,old_file_name,new_location,new_filename,delete_original = False):\n",
        "\n",
        "    shutil.copy(os.path.join(old_location,old_file_name),new_location)\n",
        "    os.rename(os.path.join(new_location,old_file_name),os.path.join(new_location,new_filename))\n",
        "    if delete_original:\n",
        "        os.remove(os.path.join(old_location,old_file_name))\n",
        "\n",
        "# putting training images into folder\n",
        "\n",
        "mask_count = 4 # change if more mask is available\n",
        "base_data_folder_name = os.path.join(task_folder_name, \"training-data-gm-sc-challenge-ismrm16-v20160302b\")\n",
        "\n",
        "for file in os.listdir(base_data_folder_name):\n",
        "    # print(file)\n",
        "    if file.endswith('.nii.gz'):\n",
        "        if file.find('mask')!=-1:\n",
        "            # putting mask\n",
        "            shutil.move(os.path.join(base_data_folder_name,file),train_label_dir)\n",
        "        else:\n",
        "            # making 4 copies\n",
        "            for mask in range(1,mask_count+1):\n",
        "                new_filename = file[:file.find('-image')] + '-mask-r' + str(mask) + '.nii.gz'\n",
        "                if mask==mask_count:\n",
        "                    copy_and_rename(base_data_folder_name,file,train_image_dir,new_filename,delete_original = True)\n",
        "                else:\n",
        "                    copy_and_rename(base_data_folder_name,file,train_image_dir,new_filename)\n",
        "    # removing all other files installed due to the unzip\n",
        "    elif file.endswith('.txt'):\n",
        "        os.remove(os.path.join(base_data_folder_name,file))"
      ],
      "metadata": {
        "id": "yM8DJfSKlcLK",
        "outputId": "6c7c4367-aef9-4fd3-ecd6-13200b55cbda",
        "colab": {
          "base_uri": "https://localhost:8080/",
          "height": 228
        }
      },
      "execution_count": null,
      "outputs": [
        {
          "output_type": "error",
          "ename": "NotADirectoryError",
          "evalue": "[Errno 20] Not a directory: '/content/drive/MyDrive/Colab Notebooks/nnUNet_raw/Dataset501_SCGM/nnUNetv2_3dfullres_Model_Dataset005_Prostate.zip/training-data-gm-sc-challenge-ismrm16-v20160302b'",
          "traceback": [
            "\u001b[0;31m---------------------------------------------------------------------------\u001b[0m",
            "\u001b[0;31mNotADirectoryError\u001b[0m                        Traceback (most recent call last)",
            "\u001b[0;32m<ipython-input-48-b99d15c27b00>\u001b[0m in \u001b[0;36m<cell line: 14>\u001b[0;34m()\u001b[0m\n\u001b[1;32m     12\u001b[0m \u001b[0mbase_data_folder_name\u001b[0m \u001b[0;34m=\u001b[0m \u001b[0mos\u001b[0m\u001b[0;34m.\u001b[0m\u001b[0mpath\u001b[0m\u001b[0;34m.\u001b[0m\u001b[0mjoin\u001b[0m\u001b[0;34m(\u001b[0m\u001b[0mtask_folder_name\u001b[0m\u001b[0;34m,\u001b[0m \u001b[0;34m\"training-data-gm-sc-challenge-ismrm16-v20160302b\"\u001b[0m\u001b[0;34m)\u001b[0m\u001b[0;34m\u001b[0m\u001b[0;34m\u001b[0m\u001b[0m\n\u001b[1;32m     13\u001b[0m \u001b[0;34m\u001b[0m\u001b[0m\n\u001b[0;32m---> 14\u001b[0;31m \u001b[0;32mfor\u001b[0m \u001b[0mfile\u001b[0m \u001b[0;32min\u001b[0m \u001b[0mos\u001b[0m\u001b[0;34m.\u001b[0m\u001b[0mlistdir\u001b[0m\u001b[0;34m(\u001b[0m\u001b[0mbase_data_folder_name\u001b[0m\u001b[0;34m)\u001b[0m\u001b[0;34m:\u001b[0m\u001b[0;34m\u001b[0m\u001b[0;34m\u001b[0m\u001b[0m\n\u001b[0m\u001b[1;32m     15\u001b[0m     \u001b[0;31m# print(file)\u001b[0m\u001b[0;34m\u001b[0m\u001b[0;34m\u001b[0m\u001b[0m\n\u001b[1;32m     16\u001b[0m     \u001b[0;32mif\u001b[0m \u001b[0mfile\u001b[0m\u001b[0;34m.\u001b[0m\u001b[0mendswith\u001b[0m\u001b[0;34m(\u001b[0m\u001b[0;34m'.nii.gz'\u001b[0m\u001b[0;34m)\u001b[0m\u001b[0;34m:\u001b[0m\u001b[0;34m\u001b[0m\u001b[0;34m\u001b[0m\u001b[0m\n",
            "\u001b[0;31mNotADirectoryError\u001b[0m: [Errno 20] Not a directory: '/content/drive/MyDrive/Colab Notebooks/nnUNet_raw/Dataset501_SCGM/nnUNetv2_3dfullres_Model_Dataset005_Prostate.zip/training-data-gm-sc-challenge-ismrm16-v20160302b'"
          ]
        }
      ]
    }
  ]
}